{
 "cells": [
  {
   "cell_type": "markdown",
   "id": "d43a713a",
   "metadata": {
    "id": "6ARzI3bywAia",
    "papermill": {
     "duration": 0.023993,
     "end_time": "2023-03-04T06:57:15.666142",
     "exception": false,
     "start_time": "2023-03-04T06:57:15.642149",
     "status": "completed"
    },
    "tags": []
   },
   "source": [
    "## Problem Statement\n",
    "\n",
    "The data scientists at BigMart have collected 2013 sales data for 1559 products across 10 stores in different cities. Also, certain attributes of each product and store have been defined. The aim is to build a predictive model and find out the sales of each product at a particular store.\n",
    "\n",
    "Using this model, BigMart will try to understand the properties of products and stores which play a key role in increasing sales.\n",
    "\n",
    "\n",
    "### Hypothesis Generation\n",
    "\n",
    "Make it a practice to do this before solving any ML problem. \n",
    "Ideally,before seeing the data or else, you might end up with biased hypotheses.\n",
    "\n",
    "What could affect the target variable (sales)?\n",
    "\n",
    "1. Time of week : Weekends usually are more busy\n",
    "2. Time of day  : Higher sales in the mornings and late evenings\n",
    "3. Time of year : Higher sales at end of the year \n",
    "4. Store size and location\n",
    "5. Items with more shelf space"
   ]
  },
  {
   "cell_type": "code",
   "execution_count": 1,
   "id": "d8e806be",
   "metadata": {
    "execution": {
     "iopub.execute_input": "2023-03-04T06:57:15.713170Z",
     "iopub.status.busy": "2023-03-04T06:57:15.712434Z",
     "iopub.status.idle": "2023-03-04T06:57:16.929997Z",
     "shell.execute_reply": "2023-03-04T06:57:16.928821Z"
    },
    "executionInfo": {
     "elapsed": 1419,
     "status": "ok",
     "timestamp": 1598848522707,
     "user": {
      "displayName": "Pranjal Taye",
      "photoUrl": "",
      "userId": "08038041687747372073"
     },
     "user_tz": -330
    },
    "id": "HmGu5nn2wAib",
    "papermill": {
     "duration": 1.245496,
     "end_time": "2023-03-04T06:57:16.933319",
     "exception": false,
     "start_time": "2023-03-04T06:57:15.687823",
     "status": "completed"
    },
    "tags": []
   },
   "outputs": [],
   "source": [
    "import numpy as np\n",
    "import pandas as pd\n",
    "from sklearn.preprocessing import LabelEncoder\n",
    "from sklearn.linear_model import LinearRegression\n",
    "from sklearn.metrics import r2_score, mean_squared_error\n",
    "from math import sqrt"
   ]
  },
  {
   "cell_type": "code",
   "execution_count": 2,
   "id": "45d63869",
   "metadata": {
    "execution": {
     "iopub.execute_input": "2023-03-04T06:57:16.978198Z",
     "iopub.status.busy": "2023-03-04T06:57:16.977718Z",
     "iopub.status.idle": "2023-03-04T06:57:17.024596Z",
     "shell.execute_reply": "2023-03-04T06:57:17.023276Z"
    },
    "executionInfo": {
     "elapsed": 1381,
     "status": "ok",
     "timestamp": 1598848526045,
     "user": {
      "displayName": "Pranjal Taye",
      "photoUrl": "",
      "userId": "08038041687747372073"
     },
     "user_tz": -330
    },
    "id": "raY_Wg1CwAif",
    "papermill": {
     "duration": 0.07248,
     "end_time": "2023-03-04T06:57:17.027471",
     "exception": false,
     "start_time": "2023-03-04T06:57:16.954991",
     "status": "completed"
    },
    "tags": []
   },
   "outputs": [],
   "source": [
    "train = pd.read_csv('/kaggle/input/bigmart/bigmart_train.csv')"
   ]
  },
  {
   "cell_type": "code",
   "execution_count": 3,
   "id": "156a45b0",
   "metadata": {
    "execution": {
     "iopub.execute_input": "2023-03-04T06:57:17.072476Z",
     "iopub.status.busy": "2023-03-04T06:57:17.071987Z",
     "iopub.status.idle": "2023-03-04T06:57:17.114617Z",
     "shell.execute_reply": "2023-03-04T06:57:17.113276Z"
    },
    "executionInfo": {
     "elapsed": 1688,
     "status": "ok",
     "timestamp": 1598848576600,
     "user": {
      "displayName": "Pranjal Taye",
      "photoUrl": "",
      "userId": "08038041687747372073"
     },
     "user_tz": -330
    },
    "id": "EOZlaCKmwAim",
    "outputId": "a8767115-82e9-4cd9-b1f5-bd3147bbf9b5",
    "papermill": {
     "duration": 0.069123,
     "end_time": "2023-03-04T06:57:17.117746",
     "exception": false,
     "start_time": "2023-03-04T06:57:17.048623",
     "status": "completed"
    },
    "tags": []
   },
   "outputs": [
    {
     "data": {
      "text/html": [
       "<div>\n",
       "<style scoped>\n",
       "    .dataframe tbody tr th:only-of-type {\n",
       "        vertical-align: middle;\n",
       "    }\n",
       "\n",
       "    .dataframe tbody tr th {\n",
       "        vertical-align: top;\n",
       "    }\n",
       "\n",
       "    .dataframe thead th {\n",
       "        text-align: right;\n",
       "    }\n",
       "</style>\n",
       "<table border=\"1\" class=\"dataframe\">\n",
       "  <thead>\n",
       "    <tr style=\"text-align: right;\">\n",
       "      <th></th>\n",
       "      <th>Item_Identifier</th>\n",
       "      <th>Item_Weight</th>\n",
       "      <th>Item_Fat_Content</th>\n",
       "      <th>Item_Visibility</th>\n",
       "      <th>Item_Type</th>\n",
       "      <th>Item_MRP</th>\n",
       "      <th>Outlet_Identifier</th>\n",
       "      <th>Outlet_Establishment_Year</th>\n",
       "      <th>Outlet_Size</th>\n",
       "      <th>Outlet_Location_Type</th>\n",
       "      <th>Outlet_Type</th>\n",
       "      <th>Item_Outlet_Sales</th>\n",
       "    </tr>\n",
       "  </thead>\n",
       "  <tbody>\n",
       "    <tr>\n",
       "      <th>0</th>\n",
       "      <td>FDA15</td>\n",
       "      <td>9.300</td>\n",
       "      <td>Low Fat</td>\n",
       "      <td>0.016047</td>\n",
       "      <td>Dairy</td>\n",
       "      <td>249.8092</td>\n",
       "      <td>OUT049</td>\n",
       "      <td>1999</td>\n",
       "      <td>Medium</td>\n",
       "      <td>Tier 1</td>\n",
       "      <td>Supermarket Type1</td>\n",
       "      <td>3735.1380</td>\n",
       "    </tr>\n",
       "    <tr>\n",
       "      <th>1</th>\n",
       "      <td>DRC01</td>\n",
       "      <td>5.920</td>\n",
       "      <td>Regular</td>\n",
       "      <td>0.019278</td>\n",
       "      <td>Soft Drinks</td>\n",
       "      <td>48.2692</td>\n",
       "      <td>OUT018</td>\n",
       "      <td>2009</td>\n",
       "      <td>Medium</td>\n",
       "      <td>Tier 3</td>\n",
       "      <td>Supermarket Type2</td>\n",
       "      <td>443.4228</td>\n",
       "    </tr>\n",
       "    <tr>\n",
       "      <th>2</th>\n",
       "      <td>FDN15</td>\n",
       "      <td>17.500</td>\n",
       "      <td>Low Fat</td>\n",
       "      <td>0.016760</td>\n",
       "      <td>Meat</td>\n",
       "      <td>141.6180</td>\n",
       "      <td>OUT049</td>\n",
       "      <td>1999</td>\n",
       "      <td>Medium</td>\n",
       "      <td>Tier 1</td>\n",
       "      <td>Supermarket Type1</td>\n",
       "      <td>2097.2700</td>\n",
       "    </tr>\n",
       "    <tr>\n",
       "      <th>3</th>\n",
       "      <td>FDX07</td>\n",
       "      <td>19.200</td>\n",
       "      <td>Regular</td>\n",
       "      <td>0.000000</td>\n",
       "      <td>Fruits and Vegetables</td>\n",
       "      <td>182.0950</td>\n",
       "      <td>OUT010</td>\n",
       "      <td>1998</td>\n",
       "      <td>NaN</td>\n",
       "      <td>Tier 3</td>\n",
       "      <td>Grocery Store</td>\n",
       "      <td>732.3800</td>\n",
       "    </tr>\n",
       "    <tr>\n",
       "      <th>4</th>\n",
       "      <td>NCD19</td>\n",
       "      <td>8.930</td>\n",
       "      <td>Low Fat</td>\n",
       "      <td>0.000000</td>\n",
       "      <td>Household</td>\n",
       "      <td>53.8614</td>\n",
       "      <td>OUT013</td>\n",
       "      <td>1987</td>\n",
       "      <td>High</td>\n",
       "      <td>Tier 3</td>\n",
       "      <td>Supermarket Type1</td>\n",
       "      <td>994.7052</td>\n",
       "    </tr>\n",
       "    <tr>\n",
       "      <th>5</th>\n",
       "      <td>FDP36</td>\n",
       "      <td>10.395</td>\n",
       "      <td>Regular</td>\n",
       "      <td>0.000000</td>\n",
       "      <td>Baking Goods</td>\n",
       "      <td>51.4008</td>\n",
       "      <td>OUT018</td>\n",
       "      <td>2009</td>\n",
       "      <td>Medium</td>\n",
       "      <td>Tier 3</td>\n",
       "      <td>Supermarket Type2</td>\n",
       "      <td>556.6088</td>\n",
       "    </tr>\n",
       "    <tr>\n",
       "      <th>6</th>\n",
       "      <td>FDO10</td>\n",
       "      <td>13.650</td>\n",
       "      <td>Regular</td>\n",
       "      <td>0.012741</td>\n",
       "      <td>Snack Foods</td>\n",
       "      <td>57.6588</td>\n",
       "      <td>OUT013</td>\n",
       "      <td>1987</td>\n",
       "      <td>High</td>\n",
       "      <td>Tier 3</td>\n",
       "      <td>Supermarket Type1</td>\n",
       "      <td>343.5528</td>\n",
       "    </tr>\n",
       "    <tr>\n",
       "      <th>7</th>\n",
       "      <td>FDP10</td>\n",
       "      <td>NaN</td>\n",
       "      <td>Low Fat</td>\n",
       "      <td>0.127470</td>\n",
       "      <td>Snack Foods</td>\n",
       "      <td>107.7622</td>\n",
       "      <td>OUT027</td>\n",
       "      <td>1985</td>\n",
       "      <td>Medium</td>\n",
       "      <td>Tier 3</td>\n",
       "      <td>Supermarket Type3</td>\n",
       "      <td>4022.7636</td>\n",
       "    </tr>\n",
       "    <tr>\n",
       "      <th>8</th>\n",
       "      <td>FDH17</td>\n",
       "      <td>16.200</td>\n",
       "      <td>Regular</td>\n",
       "      <td>0.016687</td>\n",
       "      <td>Frozen Foods</td>\n",
       "      <td>96.9726</td>\n",
       "      <td>OUT045</td>\n",
       "      <td>2002</td>\n",
       "      <td>NaN</td>\n",
       "      <td>Tier 2</td>\n",
       "      <td>Supermarket Type1</td>\n",
       "      <td>1076.5986</td>\n",
       "    </tr>\n",
       "    <tr>\n",
       "      <th>9</th>\n",
       "      <td>FDU28</td>\n",
       "      <td>19.200</td>\n",
       "      <td>Regular</td>\n",
       "      <td>0.094450</td>\n",
       "      <td>Frozen Foods</td>\n",
       "      <td>187.8214</td>\n",
       "      <td>OUT017</td>\n",
       "      <td>2007</td>\n",
       "      <td>NaN</td>\n",
       "      <td>Tier 2</td>\n",
       "      <td>Supermarket Type1</td>\n",
       "      <td>4710.5350</td>\n",
       "    </tr>\n",
       "    <tr>\n",
       "      <th>10</th>\n",
       "      <td>FDY07</td>\n",
       "      <td>11.800</td>\n",
       "      <td>Low Fat</td>\n",
       "      <td>0.000000</td>\n",
       "      <td>Fruits and Vegetables</td>\n",
       "      <td>45.5402</td>\n",
       "      <td>OUT049</td>\n",
       "      <td>1999</td>\n",
       "      <td>Medium</td>\n",
       "      <td>Tier 1</td>\n",
       "      <td>Supermarket Type1</td>\n",
       "      <td>1516.0266</td>\n",
       "    </tr>\n",
       "    <tr>\n",
       "      <th>11</th>\n",
       "      <td>FDA03</td>\n",
       "      <td>18.500</td>\n",
       "      <td>Regular</td>\n",
       "      <td>0.045464</td>\n",
       "      <td>Dairy</td>\n",
       "      <td>144.1102</td>\n",
       "      <td>OUT046</td>\n",
       "      <td>1997</td>\n",
       "      <td>Small</td>\n",
       "      <td>Tier 1</td>\n",
       "      <td>Supermarket Type1</td>\n",
       "      <td>2187.1530</td>\n",
       "    </tr>\n",
       "    <tr>\n",
       "      <th>12</th>\n",
       "      <td>FDX32</td>\n",
       "      <td>15.100</td>\n",
       "      <td>Regular</td>\n",
       "      <td>0.100014</td>\n",
       "      <td>Fruits and Vegetables</td>\n",
       "      <td>145.4786</td>\n",
       "      <td>OUT049</td>\n",
       "      <td>1999</td>\n",
       "      <td>Medium</td>\n",
       "      <td>Tier 1</td>\n",
       "      <td>Supermarket Type1</td>\n",
       "      <td>1589.2646</td>\n",
       "    </tr>\n",
       "    <tr>\n",
       "      <th>13</th>\n",
       "      <td>FDS46</td>\n",
       "      <td>17.600</td>\n",
       "      <td>Regular</td>\n",
       "      <td>0.047257</td>\n",
       "      <td>Snack Foods</td>\n",
       "      <td>119.6782</td>\n",
       "      <td>OUT046</td>\n",
       "      <td>1997</td>\n",
       "      <td>Small</td>\n",
       "      <td>Tier 1</td>\n",
       "      <td>Supermarket Type1</td>\n",
       "      <td>2145.2076</td>\n",
       "    </tr>\n",
       "    <tr>\n",
       "      <th>14</th>\n",
       "      <td>FDF32</td>\n",
       "      <td>16.350</td>\n",
       "      <td>Low Fat</td>\n",
       "      <td>0.068024</td>\n",
       "      <td>Fruits and Vegetables</td>\n",
       "      <td>196.4426</td>\n",
       "      <td>OUT013</td>\n",
       "      <td>1987</td>\n",
       "      <td>High</td>\n",
       "      <td>Tier 3</td>\n",
       "      <td>Supermarket Type1</td>\n",
       "      <td>1977.4260</td>\n",
       "    </tr>\n",
       "    <tr>\n",
       "      <th>15</th>\n",
       "      <td>FDP49</td>\n",
       "      <td>9.000</td>\n",
       "      <td>Regular</td>\n",
       "      <td>0.069089</td>\n",
       "      <td>Breakfast</td>\n",
       "      <td>56.3614</td>\n",
       "      <td>OUT046</td>\n",
       "      <td>1997</td>\n",
       "      <td>Small</td>\n",
       "      <td>Tier 1</td>\n",
       "      <td>Supermarket Type1</td>\n",
       "      <td>1547.3192</td>\n",
       "    </tr>\n",
       "    <tr>\n",
       "      <th>16</th>\n",
       "      <td>NCB42</td>\n",
       "      <td>11.800</td>\n",
       "      <td>Low Fat</td>\n",
       "      <td>0.008596</td>\n",
       "      <td>Health and Hygiene</td>\n",
       "      <td>115.3492</td>\n",
       "      <td>OUT018</td>\n",
       "      <td>2009</td>\n",
       "      <td>Medium</td>\n",
       "      <td>Tier 3</td>\n",
       "      <td>Supermarket Type2</td>\n",
       "      <td>1621.8888</td>\n",
       "    </tr>\n",
       "    <tr>\n",
       "      <th>17</th>\n",
       "      <td>FDP49</td>\n",
       "      <td>9.000</td>\n",
       "      <td>Regular</td>\n",
       "      <td>0.069196</td>\n",
       "      <td>Breakfast</td>\n",
       "      <td>54.3614</td>\n",
       "      <td>OUT049</td>\n",
       "      <td>1999</td>\n",
       "      <td>Medium</td>\n",
       "      <td>Tier 1</td>\n",
       "      <td>Supermarket Type1</td>\n",
       "      <td>718.3982</td>\n",
       "    </tr>\n",
       "    <tr>\n",
       "      <th>18</th>\n",
       "      <td>DRI11</td>\n",
       "      <td>NaN</td>\n",
       "      <td>Low Fat</td>\n",
       "      <td>0.034238</td>\n",
       "      <td>Hard Drinks</td>\n",
       "      <td>113.2834</td>\n",
       "      <td>OUT027</td>\n",
       "      <td>1985</td>\n",
       "      <td>Medium</td>\n",
       "      <td>Tier 3</td>\n",
       "      <td>Supermarket Type3</td>\n",
       "      <td>2303.6680</td>\n",
       "    </tr>\n",
       "    <tr>\n",
       "      <th>19</th>\n",
       "      <td>FDU02</td>\n",
       "      <td>13.350</td>\n",
       "      <td>Low Fat</td>\n",
       "      <td>0.102492</td>\n",
       "      <td>Dairy</td>\n",
       "      <td>230.5352</td>\n",
       "      <td>OUT035</td>\n",
       "      <td>2004</td>\n",
       "      <td>Small</td>\n",
       "      <td>Tier 2</td>\n",
       "      <td>Supermarket Type1</td>\n",
       "      <td>2748.4224</td>\n",
       "    </tr>\n",
       "  </tbody>\n",
       "</table>\n",
       "</div>"
      ],
      "text/plain": [
       "   Item_Identifier  Item_Weight Item_Fat_Content  Item_Visibility  \\\n",
       "0            FDA15        9.300          Low Fat         0.016047   \n",
       "1            DRC01        5.920          Regular         0.019278   \n",
       "2            FDN15       17.500          Low Fat         0.016760   \n",
       "3            FDX07       19.200          Regular         0.000000   \n",
       "4            NCD19        8.930          Low Fat         0.000000   \n",
       "5            FDP36       10.395          Regular         0.000000   \n",
       "6            FDO10       13.650          Regular         0.012741   \n",
       "7            FDP10          NaN          Low Fat         0.127470   \n",
       "8            FDH17       16.200          Regular         0.016687   \n",
       "9            FDU28       19.200          Regular         0.094450   \n",
       "10           FDY07       11.800          Low Fat         0.000000   \n",
       "11           FDA03       18.500          Regular         0.045464   \n",
       "12           FDX32       15.100          Regular         0.100014   \n",
       "13           FDS46       17.600          Regular         0.047257   \n",
       "14           FDF32       16.350          Low Fat         0.068024   \n",
       "15           FDP49        9.000          Regular         0.069089   \n",
       "16           NCB42       11.800          Low Fat         0.008596   \n",
       "17           FDP49        9.000          Regular         0.069196   \n",
       "18           DRI11          NaN          Low Fat         0.034238   \n",
       "19           FDU02       13.350          Low Fat         0.102492   \n",
       "\n",
       "                Item_Type  Item_MRP Outlet_Identifier  \\\n",
       "0                   Dairy  249.8092            OUT049   \n",
       "1             Soft Drinks   48.2692            OUT018   \n",
       "2                    Meat  141.6180            OUT049   \n",
       "3   Fruits and Vegetables  182.0950            OUT010   \n",
       "4               Household   53.8614            OUT013   \n",
       "5            Baking Goods   51.4008            OUT018   \n",
       "6             Snack Foods   57.6588            OUT013   \n",
       "7             Snack Foods  107.7622            OUT027   \n",
       "8            Frozen Foods   96.9726            OUT045   \n",
       "9            Frozen Foods  187.8214            OUT017   \n",
       "10  Fruits and Vegetables   45.5402            OUT049   \n",
       "11                  Dairy  144.1102            OUT046   \n",
       "12  Fruits and Vegetables  145.4786            OUT049   \n",
       "13            Snack Foods  119.6782            OUT046   \n",
       "14  Fruits and Vegetables  196.4426            OUT013   \n",
       "15              Breakfast   56.3614            OUT046   \n",
       "16     Health and Hygiene  115.3492            OUT018   \n",
       "17              Breakfast   54.3614            OUT049   \n",
       "18            Hard Drinks  113.2834            OUT027   \n",
       "19                  Dairy  230.5352            OUT035   \n",
       "\n",
       "    Outlet_Establishment_Year Outlet_Size Outlet_Location_Type  \\\n",
       "0                        1999      Medium               Tier 1   \n",
       "1                        2009      Medium               Tier 3   \n",
       "2                        1999      Medium               Tier 1   \n",
       "3                        1998         NaN               Tier 3   \n",
       "4                        1987        High               Tier 3   \n",
       "5                        2009      Medium               Tier 3   \n",
       "6                        1987        High               Tier 3   \n",
       "7                        1985      Medium               Tier 3   \n",
       "8                        2002         NaN               Tier 2   \n",
       "9                        2007         NaN               Tier 2   \n",
       "10                       1999      Medium               Tier 1   \n",
       "11                       1997       Small               Tier 1   \n",
       "12                       1999      Medium               Tier 1   \n",
       "13                       1997       Small               Tier 1   \n",
       "14                       1987        High               Tier 3   \n",
       "15                       1997       Small               Tier 1   \n",
       "16                       2009      Medium               Tier 3   \n",
       "17                       1999      Medium               Tier 1   \n",
       "18                       1985      Medium               Tier 3   \n",
       "19                       2004       Small               Tier 2   \n",
       "\n",
       "          Outlet_Type  Item_Outlet_Sales  \n",
       "0   Supermarket Type1          3735.1380  \n",
       "1   Supermarket Type2           443.4228  \n",
       "2   Supermarket Type1          2097.2700  \n",
       "3       Grocery Store           732.3800  \n",
       "4   Supermarket Type1           994.7052  \n",
       "5   Supermarket Type2           556.6088  \n",
       "6   Supermarket Type1           343.5528  \n",
       "7   Supermarket Type3          4022.7636  \n",
       "8   Supermarket Type1          1076.5986  \n",
       "9   Supermarket Type1          4710.5350  \n",
       "10  Supermarket Type1          1516.0266  \n",
       "11  Supermarket Type1          2187.1530  \n",
       "12  Supermarket Type1          1589.2646  \n",
       "13  Supermarket Type1          2145.2076  \n",
       "14  Supermarket Type1          1977.4260  \n",
       "15  Supermarket Type1          1547.3192  \n",
       "16  Supermarket Type2          1621.8888  \n",
       "17  Supermarket Type1           718.3982  \n",
       "18  Supermarket Type3          2303.6680  \n",
       "19  Supermarket Type1          2748.4224  "
      ]
     },
     "execution_count": 3,
     "metadata": {},
     "output_type": "execute_result"
    }
   ],
   "source": [
    "train.head(20)"
   ]
  },
  {
   "cell_type": "code",
   "execution_count": 4,
   "id": "175fa799",
   "metadata": {
    "execution": {
     "iopub.execute_input": "2023-03-04T06:57:17.163003Z",
     "iopub.status.busy": "2023-03-04T06:57:17.162593Z",
     "iopub.status.idle": "2023-03-04T06:57:17.170388Z",
     "shell.execute_reply": "2023-03-04T06:57:17.168924Z"
    },
    "executionInfo": {
     "elapsed": 1397,
     "status": "ok",
     "timestamp": 1598848593266,
     "user": {
      "displayName": "Pranjal Taye",
      "photoUrl": "",
      "userId": "08038041687747372073"
     },
     "user_tz": -330
    },
    "id": "OSrTtiAEwAiq",
    "outputId": "167be1f8-e41d-4970-99b6-13c28ce460b2",
    "papermill": {
     "duration": 0.033584,
     "end_time": "2023-03-04T06:57:17.173015",
     "exception": false,
     "start_time": "2023-03-04T06:57:17.139431",
     "status": "completed"
    },
    "tags": []
   },
   "outputs": [
    {
     "data": {
      "text/plain": [
       "(8523, 12)"
      ]
     },
     "execution_count": 4,
     "metadata": {},
     "output_type": "execute_result"
    }
   ],
   "source": [
    "train.shape"
   ]
  },
  {
   "cell_type": "code",
   "execution_count": 5,
   "id": "08b7878c",
   "metadata": {
    "execution": {
     "iopub.execute_input": "2023-03-04T06:57:17.219636Z",
     "iopub.status.busy": "2023-03-04T06:57:17.219241Z",
     "iopub.status.idle": "2023-03-04T06:57:17.231381Z",
     "shell.execute_reply": "2023-03-04T06:57:17.230496Z"
    },
    "executionInfo": {
     "elapsed": 1730,
     "status": "ok",
     "timestamp": 1598848597088,
     "user": {
      "displayName": "Pranjal Taye",
      "photoUrl": "",
      "userId": "08038041687747372073"
     },
     "user_tz": -330
    },
    "id": "jUu9uBhowAit",
    "outputId": "67a45e9b-3c0d-4ae6-d24b-84faeedf0c80",
    "papermill": {
     "duration": 0.03894,
     "end_time": "2023-03-04T06:57:17.233753",
     "exception": false,
     "start_time": "2023-03-04T06:57:17.194813",
     "status": "completed"
    },
    "tags": []
   },
   "outputs": [
    {
     "data": {
      "text/plain": [
       "Item_Identifier                 0\n",
       "Item_Weight                  1463\n",
       "Item_Fat_Content                0\n",
       "Item_Visibility                 0\n",
       "Item_Type                       0\n",
       "Item_MRP                        0\n",
       "Outlet_Identifier               0\n",
       "Outlet_Establishment_Year       0\n",
       "Outlet_Size                  2410\n",
       "Outlet_Location_Type            0\n",
       "Outlet_Type                     0\n",
       "Item_Outlet_Sales               0\n",
       "dtype: int64"
      ]
     },
     "execution_count": 5,
     "metadata": {},
     "output_type": "execute_result"
    }
   ],
   "source": [
    "train.isnull().sum()"
   ]
  },
  {
   "cell_type": "markdown",
   "id": "8c13fcac",
   "metadata": {
    "id": "zshkhZ2fwAix",
    "papermill": {
     "duration": 0.021463,
     "end_time": "2023-03-04T06:57:17.277122",
     "exception": false,
     "start_time": "2023-03-04T06:57:17.255659",
     "status": "completed"
    },
    "tags": []
   },
   "source": [
    "<font color=red|pink|yellow>**learner tasks (intentionally skipped)**</font>\n",
    "\n",
    "**Exploratory Data Analysis**\n",
    "\n",
    "1. Univariate analysis on \n",
    " 1. Target variable - Item outlet sales (histogram)\n",
    " 1. Independent variables (numeric and categorical) - histograms\n",
    "\n",
    "2. Bivariate analysis\n",
    " 1.  Explore IV's  with respect to the target variable - scatterplots\n",
    " \n",
    "3. Correlation matrix"
   ]
  },
  {
   "cell_type": "code",
   "execution_count": 6,
   "id": "1b3840d9",
   "metadata": {
    "execution": {
     "iopub.execute_input": "2023-03-04T06:57:17.325590Z",
     "iopub.status.busy": "2023-03-04T06:57:17.325157Z",
     "iopub.status.idle": "2023-03-04T06:57:17.331381Z",
     "shell.execute_reply": "2023-03-04T06:57:17.330492Z"
    },
    "papermill": {
     "duration": 0.032832,
     "end_time": "2023-03-04T06:57:17.333597",
     "exception": false,
     "start_time": "2023-03-04T06:57:17.300765",
     "status": "completed"
    },
    "tags": []
   },
   "outputs": [],
   "source": [
    "import matplotlib.pyplot as plt\n",
    "%matplotlib inline "
   ]
  },
  {
   "cell_type": "code",
   "execution_count": 7,
   "id": "1c23a7e3",
   "metadata": {
    "execution": {
     "iopub.execute_input": "2023-03-04T06:57:17.379814Z",
     "iopub.status.busy": "2023-03-04T06:57:17.379395Z",
     "iopub.status.idle": "2023-03-04T06:57:17.722433Z",
     "shell.execute_reply": "2023-03-04T06:57:17.720572Z"
    },
    "papermill": {
     "duration": 0.369693,
     "end_time": "2023-03-04T06:57:17.725616",
     "exception": false,
     "start_time": "2023-03-04T06:57:17.355923",
     "status": "completed"
    },
    "tags": []
   },
   "outputs": [
    {
     "data": {
      "text/plain": [
       "<AxesSubplot:>"
      ]
     },
     "execution_count": 7,
     "metadata": {},
     "output_type": "execute_result"
    },
    {
     "data": {
      "image/png": "[encoded data removed]",
      "text/plain": [
       "<Figure size 640x480 with 1 Axes>"
      ]
     },
     "metadata": {},
     "output_type": "display_data"
    }
   ],
   "source": [
    "train.Item_Outlet_Sales.hist()"
   ]
  },
  {
   "cell_type": "code",
   "execution_count": 8,
   "id": "a2bdb98e",
   "metadata": {
    "execution": {
     "iopub.execute_input": "2023-03-04T06:57:17.773132Z",
     "iopub.status.busy": "2023-03-04T06:57:17.772426Z",
     "iopub.status.idle": "2023-03-04T06:57:34.201567Z",
     "shell.execute_reply": "2023-03-04T06:57:34.200316Z"
    },
    "papermill": {
     "duration": 16.455958,
     "end_time": "2023-03-04T06:57:34.204334",
     "exception": false,
     "start_time": "2023-03-04T06:57:17.748376",
     "status": "completed"
    },
    "tags": []
   },
   "outputs": [
    {
     "data": {
      "image/png": "[encoded data removed]",
      "text/plain": [
       "<Figure size 640x480 with 1 Axes>"
      ]
     },
     "metadata": {},
     "output_type": "display_data"
    },
    {
     "data": {
      "image/png": "[encoded data removed]",
      "text/plain": [
       "<Figure size 640x480 with 1 Axes>"
      ]
     },
     "metadata": {},
     "output_type": "display_data"
    },
    {
     "data": {
      "image/png": "[encoded data removed]",
      "text/plain": [
       "<Figure size 640x480 with 1 Axes>"
      ]
     },
     "metadata": {},
     "output_type": "display_data"
    },
    {
     "data": {
      "image/png": "[encoded data removed]",
      "text/plain": [
       "<Figure size 640x480 with 1 Axes>"
      ]
     },
     "metadata": {},
     "output_type": "display_data"
    },
    {
     "data": {
      "image/png": "[encoded data removed]",
      "text/plain": [
       "<Figure size 640x480 with 1 Axes>"
      ]
     },
     "metadata": {},
     "output_type": "display_data"
    },
    {
     "data": {
      "image/png": "[encoded data removed]",
      "text/plain": [
       "<Figure size 640x480 with 1 Axes>"
      ]
     },
     "metadata": {},
     "output_type": "display_data"
    },
    {
     "data": {
      "image/png": "[encoded data removed]",
      "text/plain": [
       "<Figure size 640x480 with 1 Axes>"
      ]
     },
     "metadata": {},
     "output_type": "display_data"
    },
    {
     "data": {
      "image/png": "[encoded data removed]",
      "text/plain": [
       "<Figure size 640x480 with 1 Axes>"
      ]
     },
     "metadata": {},
     "output_type": "display_data"
    },
    {
     "data": {
      "image/png": "[encoded data removed]",
      "text/plain": [
       "<Figure size 640x480 with 1 Axes>"
      ]
     },
     "metadata": {},
     "output_type": "display_data"
    },
    {
     "data": {
      "image/png": "[encoded data removed]",
      "text/plain": [
       "<Figure size 640x480 with 1 Axes>"
      ]
     },
     "metadata": {},
     "output_type": "display_data"
    },
    {
     "data": {
      "image/png": "[encoded data removed]",
      "text/plain": [
       "<Figure size 640x480 with 1 Axes>"
      ]
     },
     "metadata": {},
     "output_type": "display_data"
    },
    {
     "data": {
      "image/png": "[encoded data removed]",
      "text/plain": [
       "<Figure size 640x480 with 1 Axes>"
      ]
     },
     "metadata": {},
     "output_type": "display_data"
    }
   ],
   "source": [
    "for i in train.columns:\n",
    "    train[i].hist()\n",
    "    plt.title(i)\n",
    "    plt.show()"
   ]
  },
  {
   "cell_type": "markdown",
   "id": "31edc3d4",
   "metadata": {
    "papermill": {
     "duration": 0.02566,
     "end_time": "2023-03-04T06:57:34.256781",
     "exception": false,
     "start_time": "2023-03-04T06:57:34.231121",
     "status": "completed"
    },
    "tags": []
   },
   "source": [
    "Bivariate analysis"
   ]
  },
  {
   "cell_type": "code",
   "execution_count": 9,
   "id": "15f258e6",
   "metadata": {
    "execution": {
     "iopub.execute_input": "2023-03-04T06:57:34.311497Z",
     "iopub.status.busy": "2023-03-04T06:57:34.311065Z",
     "iopub.status.idle": "2023-03-04T06:57:35.914777Z",
     "shell.execute_reply": "2023-03-04T06:57:35.913494Z"
    },
    "papermill": {
     "duration": 1.634507,
     "end_time": "2023-03-04T06:57:35.917445",
     "exception": false,
     "start_time": "2023-03-04T06:57:34.282938",
     "status": "completed"
    },
    "tags": []
   },
   "outputs": [
    {
     "data": {
      "image/png": "[encoded data removed]",
      "text/plain": [
       "<Figure size 640x480 with 1 Axes>"
      ]
     },
     "metadata": {},
     "output_type": "display_data"
    },
    {
     "data": {
      "image/png": "[encoded data removed]",
      "text/plain": [
       "<Figure size 640x480 with 1 Axes>"
      ]
     },
     "metadata": {},
     "output_type": "display_data"
    },
    {
     "data": {
      "image/png": "[encoded data removed]",
      "text/plain": [
       "<Figure size 640x480 with 1 Axes>"
      ]
     },
     "metadata": {},
     "output_type": "display_data"
    },
    {
     "data": {
      "image/png": "[encoded data removed]",
      "text/plain": [
       "<Figure size 640x480 with 1 Axes>"
      ]
     },
     "metadata": {},
     "output_type": "display_data"
    },
    {
     "data": {
      "image/png": "[encoded data removed]",
      "text/plain": [
       "<Figure size 640x480 with 1 Axes>"
      ]
     },
     "metadata": {},
     "output_type": "display_data"
    }
   ],
   "source": [
    "for i in train.select_dtypes(exclude='object').columns:\n",
    "    train.plot(kind='scatter', x='Item_Outlet_Sales', y=i)"
   ]
  },
  {
   "cell_type": "code",
   "execution_count": 10,
   "id": "ddb70ae4",
   "metadata": {
    "execution": {
     "iopub.execute_input": "2023-03-04T06:57:35.981321Z",
     "iopub.status.busy": "2023-03-04T06:57:35.980887Z",
     "iopub.status.idle": "2023-03-04T06:57:35.989858Z",
     "shell.execute_reply": "2023-03-04T06:57:35.988431Z"
    },
    "executionInfo": {
     "elapsed": 1156,
     "status": "ok",
     "timestamp": 1598848607050,
     "user": {
      "displayName": "Pranjal Taye",
      "photoUrl": "",
      "userId": "08038041687747372073"
     },
     "user_tz": -330
    },
    "id": "pJ-Ejx4vwAix",
    "outputId": "196b29be-b545-4458-d07e-fba4bf7ee2e7",
    "papermill": {
     "duration": 0.044456,
     "end_time": "2023-03-04T06:57:35.992596",
     "exception": false,
     "start_time": "2023-03-04T06:57:35.948140",
     "status": "completed"
    },
    "tags": []
   },
   "outputs": [
    {
     "data": {
      "text/plain": [
       "array(['Low Fat', 'Regular', 'low fat', 'LF', 'reg'], dtype=object)"
      ]
     },
     "execution_count": 10,
     "metadata": {},
     "output_type": "execute_result"
    }
   ],
   "source": [
    "train['Item_Fat_Content'].unique()\n",
    "#notice Low fat, Low Fat, LF are all the same variable"
   ]
  },
  {
   "cell_type": "code",
   "execution_count": 11,
   "id": "30bbd6b6",
   "metadata": {
    "execution": {
     "iopub.execute_input": "2023-03-04T06:57:36.055662Z",
     "iopub.status.busy": "2023-03-04T06:57:36.055261Z",
     "iopub.status.idle": "2023-03-04T06:57:36.064506Z",
     "shell.execute_reply": "2023-03-04T06:57:36.063305Z"
    },
    "executionInfo": {
     "elapsed": 1293,
     "status": "ok",
     "timestamp": 1598848617586,
     "user": {
      "displayName": "Pranjal Taye",
      "photoUrl": "",
      "userId": "08038041687747372073"
     },
     "user_tz": -330
    },
    "id": "V5qqHhEjwAi0",
    "outputId": "d14f8acb-03fd-42ff-a075-5caa470b3c36",
    "papermill": {
     "duration": 0.044138,
     "end_time": "2023-03-04T06:57:36.067131",
     "exception": false,
     "start_time": "2023-03-04T06:57:36.022993",
     "status": "completed"
    },
    "tags": []
   },
   "outputs": [
    {
     "data": {
      "text/plain": [
       "array([1999, 2009, 1998, 1987, 1985, 2002, 2007, 1997, 2004])"
      ]
     },
     "execution_count": 11,
     "metadata": {},
     "output_type": "execute_result"
    }
   ],
   "source": [
    "train['Outlet_Establishment_Year'].unique()"
   ]
  },
  {
   "cell_type": "code",
   "execution_count": 12,
   "id": "88a506d9",
   "metadata": {
    "execution": {
     "iopub.execute_input": "2023-03-04T06:57:36.130411Z",
     "iopub.status.busy": "2023-03-04T06:57:36.129960Z",
     "iopub.status.idle": "2023-03-04T06:57:36.150147Z",
     "shell.execute_reply": "2023-03-04T06:57:36.148771Z"
    },
    "executionInfo": {
     "elapsed": 1185,
     "status": "ok",
     "timestamp": 1598848621996,
     "user": {
      "displayName": "Pranjal Taye",
      "photoUrl": "",
      "userId": "08038041687747372073"
     },
     "user_tz": -330
    },
    "id": "OedyDUffwAi4",
    "outputId": "ec84adf2-5a45-47b5-e997-35017f865bf5",
    "papermill": {
     "duration": 0.05512,
     "end_time": "2023-03-04T06:57:36.152737",
     "exception": false,
     "start_time": "2023-03-04T06:57:36.097617",
     "status": "completed"
    },
    "tags": []
   },
   "outputs": [
    {
     "data": {
      "text/html": [
       "<div>\n",
       "<style scoped>\n",
       "    .dataframe tbody tr th:only-of-type {\n",
       "        vertical-align: middle;\n",
       "    }\n",
       "\n",
       "    .dataframe tbody tr th {\n",
       "        vertical-align: top;\n",
       "    }\n",
       "\n",
       "    .dataframe thead th {\n",
       "        text-align: right;\n",
       "    }\n",
       "</style>\n",
       "<table border=\"1\" class=\"dataframe\">\n",
       "  <thead>\n",
       "    <tr style=\"text-align: right;\">\n",
       "      <th></th>\n",
       "      <th>Item_Identifier</th>\n",
       "      <th>Item_Weight</th>\n",
       "      <th>Item_Fat_Content</th>\n",
       "      <th>Item_Visibility</th>\n",
       "      <th>Item_Type</th>\n",
       "      <th>Item_MRP</th>\n",
       "      <th>Outlet_Identifier</th>\n",
       "      <th>Outlet_Establishment_Year</th>\n",
       "      <th>Outlet_Size</th>\n",
       "      <th>Outlet_Location_Type</th>\n",
       "      <th>Outlet_Type</th>\n",
       "      <th>Item_Outlet_Sales</th>\n",
       "      <th>Outlet_Age</th>\n",
       "    </tr>\n",
       "  </thead>\n",
       "  <tbody>\n",
       "    <tr>\n",
       "      <th>0</th>\n",
       "      <td>FDA15</td>\n",
       "      <td>9.30</td>\n",
       "      <td>Low Fat</td>\n",
       "      <td>0.016047</td>\n",
       "      <td>Dairy</td>\n",
       "      <td>249.8092</td>\n",
       "      <td>OUT049</td>\n",
       "      <td>1999</td>\n",
       "      <td>Medium</td>\n",
       "      <td>Tier 1</td>\n",
       "      <td>Supermarket Type1</td>\n",
       "      <td>3735.1380</td>\n",
       "      <td>24</td>\n",
       "    </tr>\n",
       "    <tr>\n",
       "      <th>1</th>\n",
       "      <td>DRC01</td>\n",
       "      <td>5.92</td>\n",
       "      <td>Regular</td>\n",
       "      <td>0.019278</td>\n",
       "      <td>Soft Drinks</td>\n",
       "      <td>48.2692</td>\n",
       "      <td>OUT018</td>\n",
       "      <td>2009</td>\n",
       "      <td>Medium</td>\n",
       "      <td>Tier 3</td>\n",
       "      <td>Supermarket Type2</td>\n",
       "      <td>443.4228</td>\n",
       "      <td>14</td>\n",
       "    </tr>\n",
       "    <tr>\n",
       "      <th>2</th>\n",
       "      <td>FDN15</td>\n",
       "      <td>17.50</td>\n",
       "      <td>Low Fat</td>\n",
       "      <td>0.016760</td>\n",
       "      <td>Meat</td>\n",
       "      <td>141.6180</td>\n",
       "      <td>OUT049</td>\n",
       "      <td>1999</td>\n",
       "      <td>Medium</td>\n",
       "      <td>Tier 1</td>\n",
       "      <td>Supermarket Type1</td>\n",
       "      <td>2097.2700</td>\n",
       "      <td>24</td>\n",
       "    </tr>\n",
       "    <tr>\n",
       "      <th>3</th>\n",
       "      <td>FDX07</td>\n",
       "      <td>19.20</td>\n",
       "      <td>Regular</td>\n",
       "      <td>0.000000</td>\n",
       "      <td>Fruits and Vegetables</td>\n",
       "      <td>182.0950</td>\n",
       "      <td>OUT010</td>\n",
       "      <td>1998</td>\n",
       "      <td>NaN</td>\n",
       "      <td>Tier 3</td>\n",
       "      <td>Grocery Store</td>\n",
       "      <td>732.3800</td>\n",
       "      <td>25</td>\n",
       "    </tr>\n",
       "    <tr>\n",
       "      <th>4</th>\n",
       "      <td>NCD19</td>\n",
       "      <td>8.93</td>\n",
       "      <td>Low Fat</td>\n",
       "      <td>0.000000</td>\n",
       "      <td>Household</td>\n",
       "      <td>53.8614</td>\n",
       "      <td>OUT013</td>\n",
       "      <td>1987</td>\n",
       "      <td>High</td>\n",
       "      <td>Tier 3</td>\n",
       "      <td>Supermarket Type1</td>\n",
       "      <td>994.7052</td>\n",
       "      <td>36</td>\n",
       "    </tr>\n",
       "  </tbody>\n",
       "</table>\n",
       "</div>"
      ],
      "text/plain": [
       "  Item_Identifier  Item_Weight Item_Fat_Content  Item_Visibility  \\\n",
       "0           FDA15         9.30          Low Fat         0.016047   \n",
       "1           DRC01         5.92          Regular         0.019278   \n",
       "2           FDN15        17.50          Low Fat         0.016760   \n",
       "3           FDX07        19.20          Regular         0.000000   \n",
       "4           NCD19         8.93          Low Fat         0.000000   \n",
       "\n",
       "               Item_Type  Item_MRP Outlet_Identifier  \\\n",
       "0                  Dairy  249.8092            OUT049   \n",
       "1            Soft Drinks   48.2692            OUT018   \n",
       "2                   Meat  141.6180            OUT049   \n",
       "3  Fruits and Vegetables  182.0950            OUT010   \n",
       "4              Household   53.8614            OUT013   \n",
       "\n",
       "   Outlet_Establishment_Year Outlet_Size Outlet_Location_Type  \\\n",
       "0                       1999      Medium               Tier 1   \n",
       "1                       2009      Medium               Tier 3   \n",
       "2                       1999      Medium               Tier 1   \n",
       "3                       1998         NaN               Tier 3   \n",
       "4                       1987        High               Tier 3   \n",
       "\n",
       "         Outlet_Type  Item_Outlet_Sales  Outlet_Age  \n",
       "0  Supermarket Type1          3735.1380          24  \n",
       "1  Supermarket Type2           443.4228          14  \n",
       "2  Supermarket Type1          2097.2700          24  \n",
       "3      Grocery Store           732.3800          25  \n",
       "4  Supermarket Type1           994.7052          36  "
      ]
     },
     "execution_count": 12,
     "metadata": {},
     "output_type": "execute_result"
    }
   ],
   "source": [
    "train['Outlet_Age'] = 2023 - train['Outlet_Establishment_Year']\n",
    "train.head()"
   ]
  },
  {
   "cell_type": "code",
   "execution_count": 13,
   "id": "b7a1d376",
   "metadata": {
    "execution": {
     "iopub.execute_input": "2023-03-04T06:57:36.216884Z",
     "iopub.status.busy": "2023-03-04T06:57:36.216407Z",
     "iopub.status.idle": "2023-03-04T06:57:36.224042Z",
     "shell.execute_reply": "2023-03-04T06:57:36.223171Z"
    },
    "executionInfo": {
     "elapsed": 1436,
     "status": "ok",
     "timestamp": 1598848630362,
     "user": {
      "displayName": "Pranjal Taye",
      "photoUrl": "",
      "userId": "08038041687747372073"
     },
     "user_tz": -330
    },
    "id": "JYTpbfaAwAi7",
    "outputId": "3c32e59e-50ee-4b12-aa93-4b3f52ead04b",
    "papermill": {
     "duration": 0.042409,
     "end_time": "2023-03-04T06:57:36.226075",
     "exception": false,
     "start_time": "2023-03-04T06:57:36.183666",
     "status": "completed"
    },
    "tags": []
   },
   "outputs": [
    {
     "data": {
      "text/plain": [
       "array(['Medium', nan, 'High', 'Small'], dtype=object)"
      ]
     },
     "execution_count": 13,
     "metadata": {},
     "output_type": "execute_result"
    }
   ],
   "source": [
    "train['Outlet_Size'].unique()"
   ]
  },
  {
   "cell_type": "code",
   "execution_count": 14,
   "id": "89fe0677",
   "metadata": {
    "execution": {
     "iopub.execute_input": "2023-03-04T06:57:36.290627Z",
     "iopub.status.busy": "2023-03-04T06:57:36.290153Z",
     "iopub.status.idle": "2023-03-04T06:57:36.327465Z",
     "shell.execute_reply": "2023-03-04T06:57:36.326257Z"
    },
    "executionInfo": {
     "elapsed": 1642,
     "status": "ok",
     "timestamp": 1598848635907,
     "user": {
      "displayName": "Pranjal Taye",
      "photoUrl": "",
      "userId": "08038041687747372073"
     },
     "user_tz": -330
    },
    "id": "pYZKBJrcwAi-",
    "outputId": "120cc9b8-8c67-4d04-ca8a-f489f05f75f4",
    "papermill": {
     "duration": 0.072673,
     "end_time": "2023-03-04T06:57:36.330159",
     "exception": false,
     "start_time": "2023-03-04T06:57:36.257486",
     "status": "completed"
    },
    "tags": []
   },
   "outputs": [
    {
     "data": {
      "text/html": [
       "<div>\n",
       "<style scoped>\n",
       "    .dataframe tbody tr th:only-of-type {\n",
       "        vertical-align: middle;\n",
       "    }\n",
       "\n",
       "    .dataframe tbody tr th {\n",
       "        vertical-align: top;\n",
       "    }\n",
       "\n",
       "    .dataframe thead th {\n",
       "        text-align: right;\n",
       "    }\n",
       "</style>\n",
       "<table border=\"1\" class=\"dataframe\">\n",
       "  <thead>\n",
       "    <tr style=\"text-align: right;\">\n",
       "      <th></th>\n",
       "      <th>Item_Weight</th>\n",
       "      <th>Item_Visibility</th>\n",
       "      <th>Item_MRP</th>\n",
       "      <th>Outlet_Establishment_Year</th>\n",
       "      <th>Item_Outlet_Sales</th>\n",
       "      <th>Outlet_Age</th>\n",
       "    </tr>\n",
       "  </thead>\n",
       "  <tbody>\n",
       "    <tr>\n",
       "      <th>count</th>\n",
       "      <td>7060.000000</td>\n",
       "      <td>8523.000000</td>\n",
       "      <td>8523.000000</td>\n",
       "      <td>8523.000000</td>\n",
       "      <td>8523.000000</td>\n",
       "      <td>8523.000000</td>\n",
       "    </tr>\n",
       "    <tr>\n",
       "      <th>mean</th>\n",
       "      <td>12.857645</td>\n",
       "      <td>0.066132</td>\n",
       "      <td>140.992782</td>\n",
       "      <td>1997.831867</td>\n",
       "      <td>2181.288914</td>\n",
       "      <td>25.168133</td>\n",
       "    </tr>\n",
       "    <tr>\n",
       "      <th>std</th>\n",
       "      <td>4.643456</td>\n",
       "      <td>0.051598</td>\n",
       "      <td>62.275067</td>\n",
       "      <td>8.371760</td>\n",
       "      <td>1706.499616</td>\n",
       "      <td>8.371760</td>\n",
       "    </tr>\n",
       "    <tr>\n",
       "      <th>min</th>\n",
       "      <td>4.555000</td>\n",
       "      <td>0.000000</td>\n",
       "      <td>31.290000</td>\n",
       "      <td>1985.000000</td>\n",
       "      <td>33.290000</td>\n",
       "      <td>14.000000</td>\n",
       "    </tr>\n",
       "    <tr>\n",
       "      <th>25%</th>\n",
       "      <td>8.773750</td>\n",
       "      <td>0.026989</td>\n",
       "      <td>93.826500</td>\n",
       "      <td>1987.000000</td>\n",
       "      <td>834.247400</td>\n",
       "      <td>19.000000</td>\n",
       "    </tr>\n",
       "    <tr>\n",
       "      <th>50%</th>\n",
       "      <td>12.600000</td>\n",
       "      <td>0.053931</td>\n",
       "      <td>143.012800</td>\n",
       "      <td>1999.000000</td>\n",
       "      <td>1794.331000</td>\n",
       "      <td>24.000000</td>\n",
       "    </tr>\n",
       "    <tr>\n",
       "      <th>75%</th>\n",
       "      <td>16.850000</td>\n",
       "      <td>0.094585</td>\n",
       "      <td>185.643700</td>\n",
       "      <td>2004.000000</td>\n",
       "      <td>3101.296400</td>\n",
       "      <td>36.000000</td>\n",
       "    </tr>\n",
       "    <tr>\n",
       "      <th>max</th>\n",
       "      <td>21.350000</td>\n",
       "      <td>0.328391</td>\n",
       "      <td>266.888400</td>\n",
       "      <td>2009.000000</td>\n",
       "      <td>13086.964800</td>\n",
       "      <td>38.000000</td>\n",
       "    </tr>\n",
       "  </tbody>\n",
       "</table>\n",
       "</div>"
      ],
      "text/plain": [
       "       Item_Weight  Item_Visibility     Item_MRP  Outlet_Establishment_Year  \\\n",
       "count  7060.000000      8523.000000  8523.000000                8523.000000   \n",
       "mean     12.857645         0.066132   140.992782                1997.831867   \n",
       "std       4.643456         0.051598    62.275067                   8.371760   \n",
       "min       4.555000         0.000000    31.290000                1985.000000   \n",
       "25%       8.773750         0.026989    93.826500                1987.000000   \n",
       "50%      12.600000         0.053931   143.012800                1999.000000   \n",
       "75%      16.850000         0.094585   185.643700                2004.000000   \n",
       "max      21.350000         0.328391   266.888400                2009.000000   \n",
       "\n",
       "       Item_Outlet_Sales   Outlet_Age  \n",
       "count        8523.000000  8523.000000  \n",
       "mean         2181.288914    25.168133  \n",
       "std          1706.499616     8.371760  \n",
       "min            33.290000    14.000000  \n",
       "25%           834.247400    19.000000  \n",
       "50%          1794.331000    24.000000  \n",
       "75%          3101.296400    36.000000  \n",
       "max         13086.964800    38.000000  "
      ]
     },
     "execution_count": 14,
     "metadata": {},
     "output_type": "execute_result"
    }
   ],
   "source": [
    "train.describe()"
   ]
  },
  {
   "cell_type": "code",
   "execution_count": 15,
   "id": "2d6f1de6",
   "metadata": {
    "execution": {
     "iopub.execute_input": "2023-03-04T06:57:36.396722Z",
     "iopub.status.busy": "2023-03-04T06:57:36.396234Z",
     "iopub.status.idle": "2023-03-04T06:57:36.405247Z",
     "shell.execute_reply": "2023-03-04T06:57:36.404310Z"
    },
    "executionInfo": {
     "elapsed": 1469,
     "status": "ok",
     "timestamp": 1598848639964,
     "user": {
      "displayName": "Pranjal Taye",
      "photoUrl": "",
      "userId": "08038041687747372073"
     },
     "user_tz": -330
    },
    "id": "1jXH9VcmwAjB",
    "outputId": "bb7f687a-19be-43d7-8819-44d0334d04ba",
    "papermill": {
     "duration": 0.04545,
     "end_time": "2023-03-04T06:57:36.407355",
     "exception": false,
     "start_time": "2023-03-04T06:57:36.361905",
     "status": "completed"
    },
    "tags": []
   },
   "outputs": [
    {
     "data": {
      "text/plain": [
       "Low Fat    5089\n",
       "Regular    2889\n",
       "LF          316\n",
       "reg         117\n",
       "low fat     112\n",
       "Name: Item_Fat_Content, dtype: int64"
      ]
     },
     "execution_count": 15,
     "metadata": {},
     "output_type": "execute_result"
    }
   ],
   "source": [
    "train['Item_Fat_Content'].value_counts()"
   ]
  },
  {
   "cell_type": "code",
   "execution_count": 16,
   "id": "83dc0229",
   "metadata": {
    "execution": {
     "iopub.execute_input": "2023-03-04T06:57:36.472679Z",
     "iopub.status.busy": "2023-03-04T06:57:36.471514Z",
     "iopub.status.idle": "2023-03-04T06:57:36.481724Z",
     "shell.execute_reply": "2023-03-04T06:57:36.480500Z"
    },
    "executionInfo": {
     "elapsed": 1805,
     "status": "ok",
     "timestamp": 1598848644768,
     "user": {
      "displayName": "Pranjal Taye",
      "photoUrl": "",
      "userId": "08038041687747372073"
     },
     "user_tz": -330
    },
    "id": "PGCi5gc3wAjE",
    "outputId": "bb794e86-0d5c-4e33-cc16-7c5b07c38b8e",
    "papermill": {
     "duration": 0.045613,
     "end_time": "2023-03-04T06:57:36.484193",
     "exception": false,
     "start_time": "2023-03-04T06:57:36.438580",
     "status": "completed"
    },
    "tags": []
   },
   "outputs": [
    {
     "data": {
      "text/plain": [
       "Medium    2793\n",
       "Small     2388\n",
       "High       932\n",
       "Name: Outlet_Size, dtype: int64"
      ]
     },
     "execution_count": 16,
     "metadata": {},
     "output_type": "execute_result"
    }
   ],
   "source": [
    "train['Outlet_Size'].value_counts()"
   ]
  },
  {
   "cell_type": "code",
   "execution_count": 17,
   "id": "e34bef6e",
   "metadata": {
    "execution": {
     "iopub.execute_input": "2023-03-04T06:57:36.550909Z",
     "iopub.status.busy": "2023-03-04T06:57:36.550475Z",
     "iopub.status.idle": "2023-03-04T06:57:36.558020Z",
     "shell.execute_reply": "2023-03-04T06:57:36.557200Z"
    },
    "executionInfo": {
     "elapsed": 1203,
     "status": "ok",
     "timestamp": 1598848647791,
     "user": {
      "displayName": "Pranjal Taye",
      "photoUrl": "",
      "userId": "08038041687747372073"
     },
     "user_tz": -330
    },
    "id": "RsP6F6XrwAjH",
    "outputId": "a2baf86e-c272-4faa-cb0c-ea277c7a7f77",
    "papermill": {
     "duration": 0.0436,
     "end_time": "2023-03-04T06:57:36.560208",
     "exception": false,
     "start_time": "2023-03-04T06:57:36.516608",
     "status": "completed"
    },
    "tags": []
   },
   "outputs": [
    {
     "data": {
      "text/plain": [
       "'Medium'"
      ]
     },
     "execution_count": 17,
     "metadata": {},
     "output_type": "execute_result"
    }
   ],
   "source": [
    "train['Outlet_Size'].mode()[0]"
   ]
  },
  {
   "cell_type": "code",
   "execution_count": 18,
   "id": "64993568",
   "metadata": {
    "execution": {
     "iopub.execute_input": "2023-03-04T06:57:36.627309Z",
     "iopub.status.busy": "2023-03-04T06:57:36.626063Z",
     "iopub.status.idle": "2023-03-04T06:57:36.634744Z",
     "shell.execute_reply": "2023-03-04T06:57:36.633282Z"
    },
    "executionInfo": {
     "elapsed": 1196,
     "status": "ok",
     "timestamp": 1598848650699,
     "user": {
      "displayName": "Pranjal Taye",
      "photoUrl": "",
      "userId": "08038041687747372073"
     },
     "user_tz": -330
    },
    "id": "e39w5H8rwAjK",
    "papermill": {
     "duration": 0.044494,
     "end_time": "2023-03-04T06:57:36.637433",
     "exception": false,
     "start_time": "2023-03-04T06:57:36.592939",
     "status": "completed"
    },
    "tags": []
   },
   "outputs": [],
   "source": [
    "# fill the na for outlet size with medium\n",
    "train['Outlet_Size'] = train['Outlet_Size'].fillna(train['Outlet_Size'].mode()[0])"
   ]
  },
  {
   "cell_type": "code",
   "execution_count": 19,
   "id": "f43d96a1",
   "metadata": {
    "execution": {
     "iopub.execute_input": "2023-03-04T06:57:36.705303Z",
     "iopub.status.busy": "2023-03-04T06:57:36.704441Z",
     "iopub.status.idle": "2023-03-04T06:57:36.711009Z",
     "shell.execute_reply": "2023-03-04T06:57:36.709660Z"
    },
    "executionInfo": {
     "elapsed": 1189,
     "status": "ok",
     "timestamp": 1598848663256,
     "user": {
      "displayName": "Pranjal Taye",
      "photoUrl": "",
      "userId": "08038041687747372073"
     },
     "user_tz": -330
    },
    "id": "sG_rv-xswAjN",
    "papermill": {
     "duration": 0.044968,
     "end_time": "2023-03-04T06:57:36.713544",
     "exception": false,
     "start_time": "2023-03-04T06:57:36.668576",
     "status": "completed"
    },
    "tags": []
   },
   "outputs": [],
   "source": [
    "# fill the na for item weight with the mean of weights\n",
    "train['Item_Weight'] = train['Item_Weight'].fillna(train['Item_Weight'].mean())"
   ]
  },
  {
   "cell_type": "code",
   "execution_count": 20,
   "id": "d046a17f",
   "metadata": {
    "execution": {
     "iopub.execute_input": "2023-03-04T06:57:36.781005Z",
     "iopub.status.busy": "2023-03-04T06:57:36.780567Z",
     "iopub.status.idle": "2023-03-04T06:57:37.061442Z",
     "shell.execute_reply": "2023-03-04T06:57:37.060197Z"
    },
    "executionInfo": {
     "elapsed": 1238,
     "status": "ok",
     "timestamp": 1598848665576,
     "user": {
      "displayName": "Pranjal Taye",
      "photoUrl": "",
      "userId": "08038041687747372073"
     },
     "user_tz": -330
    },
    "id": "iS12JUOGwAjQ",
    "outputId": "cb0d171c-6869-49c9-fb6e-b902c0213558",
    "papermill": {
     "duration": 0.318086,
     "end_time": "2023-03-04T06:57:37.064381",
     "exception": false,
     "start_time": "2023-03-04T06:57:36.746295",
     "status": "completed"
    },
    "tags": []
   },
   "outputs": [
    {
     "data": {
      "text/plain": [
       "<AxesSubplot:>"
      ]
     },
     "execution_count": 20,
     "metadata": {},
     "output_type": "execute_result"
    },
    {
     "data": {
      "image/png": "[encoded data removed]",
      "text/plain": [
       "<Figure size 640x480 with 1 Axes>"
      ]
     },
     "metadata": {},
     "output_type": "display_data"
    }
   ],
   "source": [
    "train['Item_Visibility'].hist(bins=20)"
   ]
  },
  {
   "cell_type": "code",
   "execution_count": 21,
   "id": "5d28f1c9",
   "metadata": {
    "execution": {
     "iopub.execute_input": "2023-03-04T06:57:37.131598Z",
     "iopub.status.busy": "2023-03-04T06:57:37.131134Z",
     "iopub.status.idle": "2023-03-04T06:57:37.148397Z",
     "shell.execute_reply": "2023-03-04T06:57:37.146955Z"
    },
    "executionInfo": {
     "elapsed": 1226,
     "status": "ok",
     "timestamp": 1598848669142,
     "user": {
      "displayName": "Pranjal Taye",
      "photoUrl": "",
      "userId": "08038041687747372073"
     },
     "user_tz": -330
    },
    "id": "g0lhASNywAjT",
    "papermill": {
     "duration": 0.054727,
     "end_time": "2023-03-04T06:57:37.151414",
     "exception": false,
     "start_time": "2023-03-04T06:57:37.096687",
     "status": "completed"
    },
    "tags": []
   },
   "outputs": [],
   "source": [
    "# delete the observations\n",
    "\n",
    "Q1 = train['Item_Visibility'].quantile(0.25)\n",
    "Q3 = train['Item_Visibility'].quantile(0.75)\n",
    "IQR = Q3 - Q1\n",
    "filt_train = train.query('(@Q1 - 1.5 * @IQR) <= Item_Visibility <= (@Q3 + 1.5 * @IQR)')"
   ]
  },
  {
   "cell_type": "code",
   "execution_count": 22,
   "id": "35381e78",
   "metadata": {
    "execution": {
     "iopub.execute_input": "2023-03-04T06:57:37.218553Z",
     "iopub.status.busy": "2023-03-04T06:57:37.218054Z",
     "iopub.status.idle": "2023-03-04T06:57:37.250412Z",
     "shell.execute_reply": "2023-03-04T06:57:37.248898Z"
    },
    "executionInfo": {
     "elapsed": 1192,
     "status": "ok",
     "timestamp": 1598848673217,
     "user": {
      "displayName": "Pranjal Taye",
      "photoUrl": "",
      "userId": "08038041687747372073"
     },
     "user_tz": -330
    },
    "id": "FcjO1a6MwAjW",
    "outputId": "f0465e3f-a94f-44e7-ca52-277cc5ffc000",
    "papermill": {
     "duration": 0.068797,
     "end_time": "2023-03-04T06:57:37.252978",
     "exception": false,
     "start_time": "2023-03-04T06:57:37.184181",
     "status": "completed"
    },
    "tags": []
   },
   "outputs": [
    {
     "data": {
      "text/html": [
       "<div>\n",
       "<style scoped>\n",
       "    .dataframe tbody tr th:only-of-type {\n",
       "        vertical-align: middle;\n",
       "    }\n",
       "\n",
       "    .dataframe tbody tr th {\n",
       "        vertical-align: top;\n",
       "    }\n",
       "\n",
       "    .dataframe thead th {\n",
       "        text-align: right;\n",
       "    }\n",
       "</style>\n",
       "<table border=\"1\" class=\"dataframe\">\n",
       "  <thead>\n",
       "    <tr style=\"text-align: right;\">\n",
       "      <th></th>\n",
       "      <th>Item_Identifier</th>\n",
       "      <th>Item_Weight</th>\n",
       "      <th>Item_Fat_Content</th>\n",
       "      <th>Item_Visibility</th>\n",
       "      <th>Item_Type</th>\n",
       "      <th>Item_MRP</th>\n",
       "      <th>Outlet_Identifier</th>\n",
       "      <th>Outlet_Establishment_Year</th>\n",
       "      <th>Outlet_Size</th>\n",
       "      <th>Outlet_Location_Type</th>\n",
       "      <th>Outlet_Type</th>\n",
       "      <th>Item_Outlet_Sales</th>\n",
       "      <th>Outlet_Age</th>\n",
       "    </tr>\n",
       "  </thead>\n",
       "  <tbody>\n",
       "    <tr>\n",
       "      <th>0</th>\n",
       "      <td>FDA15</td>\n",
       "      <td>9.300</td>\n",
       "      <td>Low Fat</td>\n",
       "      <td>0.016047</td>\n",
       "      <td>Dairy</td>\n",
       "      <td>249.8092</td>\n",
       "      <td>OUT049</td>\n",
       "      <td>1999</td>\n",
       "      <td>Medium</td>\n",
       "      <td>Tier 1</td>\n",
       "      <td>Supermarket Type1</td>\n",
       "      <td>3735.1380</td>\n",
       "      <td>24</td>\n",
       "    </tr>\n",
       "    <tr>\n",
       "      <th>1</th>\n",
       "      <td>DRC01</td>\n",
       "      <td>5.920</td>\n",
       "      <td>Regular</td>\n",
       "      <td>0.019278</td>\n",
       "      <td>Soft Drinks</td>\n",
       "      <td>48.2692</td>\n",
       "      <td>OUT018</td>\n",
       "      <td>2009</td>\n",
       "      <td>Medium</td>\n",
       "      <td>Tier 3</td>\n",
       "      <td>Supermarket Type2</td>\n",
       "      <td>443.4228</td>\n",
       "      <td>14</td>\n",
       "    </tr>\n",
       "    <tr>\n",
       "      <th>2</th>\n",
       "      <td>FDN15</td>\n",
       "      <td>17.500</td>\n",
       "      <td>Low Fat</td>\n",
       "      <td>0.016760</td>\n",
       "      <td>Meat</td>\n",
       "      <td>141.6180</td>\n",
       "      <td>OUT049</td>\n",
       "      <td>1999</td>\n",
       "      <td>Medium</td>\n",
       "      <td>Tier 1</td>\n",
       "      <td>Supermarket Type1</td>\n",
       "      <td>2097.2700</td>\n",
       "      <td>24</td>\n",
       "    </tr>\n",
       "    <tr>\n",
       "      <th>3</th>\n",
       "      <td>FDX07</td>\n",
       "      <td>19.200</td>\n",
       "      <td>Regular</td>\n",
       "      <td>0.000000</td>\n",
       "      <td>Fruits and Vegetables</td>\n",
       "      <td>182.0950</td>\n",
       "      <td>OUT010</td>\n",
       "      <td>1998</td>\n",
       "      <td>Medium</td>\n",
       "      <td>Tier 3</td>\n",
       "      <td>Grocery Store</td>\n",
       "      <td>732.3800</td>\n",
       "      <td>25</td>\n",
       "    </tr>\n",
       "    <tr>\n",
       "      <th>4</th>\n",
       "      <td>NCD19</td>\n",
       "      <td>8.930</td>\n",
       "      <td>Low Fat</td>\n",
       "      <td>0.000000</td>\n",
       "      <td>Household</td>\n",
       "      <td>53.8614</td>\n",
       "      <td>OUT013</td>\n",
       "      <td>1987</td>\n",
       "      <td>High</td>\n",
       "      <td>Tier 3</td>\n",
       "      <td>Supermarket Type1</td>\n",
       "      <td>994.7052</td>\n",
       "      <td>36</td>\n",
       "    </tr>\n",
       "    <tr>\n",
       "      <th>...</th>\n",
       "      <td>...</td>\n",
       "      <td>...</td>\n",
       "      <td>...</td>\n",
       "      <td>...</td>\n",
       "      <td>...</td>\n",
       "      <td>...</td>\n",
       "      <td>...</td>\n",
       "      <td>...</td>\n",
       "      <td>...</td>\n",
       "      <td>...</td>\n",
       "      <td>...</td>\n",
       "      <td>...</td>\n",
       "      <td>...</td>\n",
       "    </tr>\n",
       "    <tr>\n",
       "      <th>8518</th>\n",
       "      <td>FDF22</td>\n",
       "      <td>6.865</td>\n",
       "      <td>Low Fat</td>\n",
       "      <td>0.056783</td>\n",
       "      <td>Snack Foods</td>\n",
       "      <td>214.5218</td>\n",
       "      <td>OUT013</td>\n",
       "      <td>1987</td>\n",
       "      <td>High</td>\n",
       "      <td>Tier 3</td>\n",
       "      <td>Supermarket Type1</td>\n",
       "      <td>2778.3834</td>\n",
       "      <td>36</td>\n",
       "    </tr>\n",
       "    <tr>\n",
       "      <th>8519</th>\n",
       "      <td>FDS36</td>\n",
       "      <td>8.380</td>\n",
       "      <td>Regular</td>\n",
       "      <td>0.046982</td>\n",
       "      <td>Baking Goods</td>\n",
       "      <td>108.1570</td>\n",
       "      <td>OUT045</td>\n",
       "      <td>2002</td>\n",
       "      <td>Medium</td>\n",
       "      <td>Tier 2</td>\n",
       "      <td>Supermarket Type1</td>\n",
       "      <td>549.2850</td>\n",
       "      <td>21</td>\n",
       "    </tr>\n",
       "    <tr>\n",
       "      <th>8520</th>\n",
       "      <td>NCJ29</td>\n",
       "      <td>10.600</td>\n",
       "      <td>Low Fat</td>\n",
       "      <td>0.035186</td>\n",
       "      <td>Health and Hygiene</td>\n",
       "      <td>85.1224</td>\n",
       "      <td>OUT035</td>\n",
       "      <td>2004</td>\n",
       "      <td>Small</td>\n",
       "      <td>Tier 2</td>\n",
       "      <td>Supermarket Type1</td>\n",
       "      <td>1193.1136</td>\n",
       "      <td>19</td>\n",
       "    </tr>\n",
       "    <tr>\n",
       "      <th>8521</th>\n",
       "      <td>FDN46</td>\n",
       "      <td>7.210</td>\n",
       "      <td>Regular</td>\n",
       "      <td>0.145221</td>\n",
       "      <td>Snack Foods</td>\n",
       "      <td>103.1332</td>\n",
       "      <td>OUT018</td>\n",
       "      <td>2009</td>\n",
       "      <td>Medium</td>\n",
       "      <td>Tier 3</td>\n",
       "      <td>Supermarket Type2</td>\n",
       "      <td>1845.5976</td>\n",
       "      <td>14</td>\n",
       "    </tr>\n",
       "    <tr>\n",
       "      <th>8522</th>\n",
       "      <td>DRG01</td>\n",
       "      <td>14.800</td>\n",
       "      <td>Low Fat</td>\n",
       "      <td>0.044878</td>\n",
       "      <td>Soft Drinks</td>\n",
       "      <td>75.4670</td>\n",
       "      <td>OUT046</td>\n",
       "      <td>1997</td>\n",
       "      <td>Small</td>\n",
       "      <td>Tier 1</td>\n",
       "      <td>Supermarket Type1</td>\n",
       "      <td>765.6700</td>\n",
       "      <td>26</td>\n",
       "    </tr>\n",
       "  </tbody>\n",
       "</table>\n",
       "<p>8379 rows × 13 columns</p>\n",
       "</div>"
      ],
      "text/plain": [
       "     Item_Identifier  Item_Weight Item_Fat_Content  Item_Visibility  \\\n",
       "0              FDA15        9.300          Low Fat         0.016047   \n",
       "1              DRC01        5.920          Regular         0.019278   \n",
       "2              FDN15       17.500          Low Fat         0.016760   \n",
       "3              FDX07       19.200          Regular         0.000000   \n",
       "4              NCD19        8.930          Low Fat         0.000000   \n",
       "...              ...          ...              ...              ...   \n",
       "8518           FDF22        6.865          Low Fat         0.056783   \n",
       "8519           FDS36        8.380          Regular         0.046982   \n",
       "8520           NCJ29       10.600          Low Fat         0.035186   \n",
       "8521           FDN46        7.210          Regular         0.145221   \n",
       "8522           DRG01       14.800          Low Fat         0.044878   \n",
       "\n",
       "                  Item_Type  Item_MRP Outlet_Identifier  \\\n",
       "0                     Dairy  249.8092            OUT049   \n",
       "1               Soft Drinks   48.2692            OUT018   \n",
       "2                      Meat  141.6180            OUT049   \n",
       "3     Fruits and Vegetables  182.0950            OUT010   \n",
       "4                 Household   53.8614            OUT013   \n",
       "...                     ...       ...               ...   \n",
       "8518            Snack Foods  214.5218            OUT013   \n",
       "8519           Baking Goods  108.1570            OUT045   \n",
       "8520     Health and Hygiene   85.1224            OUT035   \n",
       "8521            Snack Foods  103.1332            OUT018   \n",
       "8522            Soft Drinks   75.4670            OUT046   \n",
       "\n",
       "      Outlet_Establishment_Year Outlet_Size Outlet_Location_Type  \\\n",
       "0                          1999      Medium               Tier 1   \n",
       "1                          2009      Medium               Tier 3   \n",
       "2                          1999      Medium               Tier 1   \n",
       "3                          1998      Medium               Tier 3   \n",
       "4                          1987        High               Tier 3   \n",
       "...                         ...         ...                  ...   \n",
       "8518                       1987        High               Tier 3   \n",
       "8519                       2002      Medium               Tier 2   \n",
       "8520                       2004       Small               Tier 2   \n",
       "8521                       2009      Medium               Tier 3   \n",
       "8522                       1997       Small               Tier 1   \n",
       "\n",
       "            Outlet_Type  Item_Outlet_Sales  Outlet_Age  \n",
       "0     Supermarket Type1          3735.1380          24  \n",
       "1     Supermarket Type2           443.4228          14  \n",
       "2     Supermarket Type1          2097.2700          24  \n",
       "3         Grocery Store           732.3800          25  \n",
       "4     Supermarket Type1           994.7052          36  \n",
       "...                 ...                ...         ...  \n",
       "8518  Supermarket Type1          2778.3834          36  \n",
       "8519  Supermarket Type1           549.2850          21  \n",
       "8520  Supermarket Type1          1193.1136          19  \n",
       "8521  Supermarket Type2          1845.5976          14  \n",
       "8522  Supermarket Type1           765.6700          26  \n",
       "\n",
       "[8379 rows x 13 columns]"
      ]
     },
     "execution_count": 22,
     "metadata": {},
     "output_type": "execute_result"
    }
   ],
   "source": [
    "filt_train"
   ]
  },
  {
   "cell_type": "code",
   "execution_count": 23,
   "id": "2fec2886",
   "metadata": {
    "execution": {
     "iopub.execute_input": "2023-03-04T06:57:37.321360Z",
     "iopub.status.busy": "2023-03-04T06:57:37.320901Z",
     "iopub.status.idle": "2023-03-04T06:57:37.328655Z",
     "shell.execute_reply": "2023-03-04T06:57:37.327451Z"
    },
    "executionInfo": {
     "elapsed": 1731,
     "status": "ok",
     "timestamp": 1598848679406,
     "user": {
      "displayName": "Pranjal Taye",
      "photoUrl": "",
      "userId": "08038041687747372073"
     },
     "user_tz": -330
    },
    "id": "pT7tWHmVwAjY",
    "outputId": "8ddfcfae-1391-4de3-c192-ac118cd423b9",
    "papermill": {
     "duration": 0.04497,
     "end_time": "2023-03-04T06:57:37.331092",
     "exception": false,
     "start_time": "2023-03-04T06:57:37.286122",
     "status": "completed"
    },
    "tags": []
   },
   "outputs": [
    {
     "data": {
      "text/plain": [
       "((8379, 13), (8523, 13))"
      ]
     },
     "execution_count": 23,
     "metadata": {},
     "output_type": "execute_result"
    }
   ],
   "source": [
    "filt_train.shape, train.shape"
   ]
  },
  {
   "cell_type": "code",
   "execution_count": 24,
   "id": "dc5da990",
   "metadata": {
    "execution": {
     "iopub.execute_input": "2023-03-04T06:57:37.404794Z",
     "iopub.status.busy": "2023-03-04T06:57:37.402476Z",
     "iopub.status.idle": "2023-03-04T06:57:37.414413Z",
     "shell.execute_reply": "2023-03-04T06:57:37.412302Z"
    },
    "executionInfo": {
     "elapsed": 1182,
     "status": "ok",
     "timestamp": 1598848682163,
     "user": {
      "displayName": "Pranjal Taye",
      "photoUrl": "",
      "userId": "08038041687747372073"
     },
     "user_tz": -330
    },
    "id": "6HRNJ7hpwAje",
    "outputId": "16fa10c5-6972-49b1-de8c-8165db8f9eee",
    "papermill": {
     "duration": 0.054543,
     "end_time": "2023-03-04T06:57:37.418581",
     "exception": false,
     "start_time": "2023-03-04T06:57:37.364038",
     "status": "completed"
    },
    "tags": []
   },
   "outputs": [
    {
     "data": {
      "text/plain": [
       "(8379, 13)"
      ]
     },
     "execution_count": 24,
     "metadata": {},
     "output_type": "execute_result"
    }
   ],
   "source": [
    "train = filt_train\n",
    "train.shape"
   ]
  },
  {
   "cell_type": "code",
   "execution_count": 25,
   "id": "199f15fb",
   "metadata": {
    "execution": {
     "iopub.execute_input": "2023-03-04T06:57:37.512601Z",
     "iopub.status.busy": "2023-03-04T06:57:37.512148Z",
     "iopub.status.idle": "2023-03-04T06:57:37.517109Z",
     "shell.execute_reply": "2023-03-04T06:57:37.515822Z"
    },
    "executionInfo": {
     "elapsed": 1099,
     "status": "ok",
     "timestamp": 1598847837296,
     "user": {
      "displayName": "Pranjal Taye",
      "photoUrl": "",
      "userId": "08038041687747372073"
     },
     "user_tz": -330
    },
    "id": "MXIxJAzUwAjh",
    "papermill": {
     "duration": 0.054919,
     "end_time": "2023-03-04T06:57:37.519648",
     "exception": false,
     "start_time": "2023-03-04T06:57:37.464729",
     "status": "completed"
    },
    "tags": []
   },
   "outputs": [],
   "source": [
    "#train['Item_Visibility'].value_counts()"
   ]
  },
  {
   "cell_type": "code",
   "execution_count": 26,
   "id": "ed025f2f",
   "metadata": {
    "execution": {
     "iopub.execute_input": "2023-03-04T06:57:37.589744Z",
     "iopub.status.busy": "2023-03-04T06:57:37.589299Z",
     "iopub.status.idle": "2023-03-04T06:57:37.602602Z",
     "shell.execute_reply": "2023-03-04T06:57:37.601282Z"
    },
    "executionInfo": {
     "elapsed": 1054,
     "status": "ok",
     "timestamp": 1598848685805,
     "user": {
      "displayName": "Pranjal Taye",
      "photoUrl": "",
      "userId": "08038041687747372073"
     },
     "user_tz": -330
    },
    "id": "Vyr_Zu64wAjj",
    "papermill": {
     "duration": 0.052191,
     "end_time": "2023-03-04T06:57:37.605676",
     "exception": false,
     "start_time": "2023-03-04T06:57:37.553485",
     "status": "completed"
    },
    "tags": []
   },
   "outputs": [
    {
     "name": "stderr",
     "output_type": "stream",
     "text": [
      "/opt/conda/lib/python3.7/site-packages/ipykernel_launcher.py:2: SettingWithCopyWarning: \n",
      "A value is trying to be set on a copy of a slice from a DataFrame.\n",
      "Try using .loc[row_indexer,col_indexer] = value instead\n",
      "\n",
      "See the caveats in the documentation: https://pandas.pydata.org/pandas-docs/stable/user_guide/indexing.html#returning-a-view-versus-a-copy\n",
      "  \n"
     ]
    }
   ],
   "source": [
    "#creating a category\n",
    "train['Item_Visibility_bins'] = pd.cut(train['Item_Visibility'], [0.000, 0.065, 0.13, 0.2], labels=['Low Viz', 'Viz', 'High Viz'])"
   ]
  },
  {
   "cell_type": "code",
   "execution_count": 27,
   "id": "547112dc",
   "metadata": {
    "execution": {
     "iopub.execute_input": "2023-03-04T06:57:37.675035Z",
     "iopub.status.busy": "2023-03-04T06:57:37.674532Z",
     "iopub.status.idle": "2023-03-04T06:57:37.689953Z",
     "shell.execute_reply": "2023-03-04T06:57:37.687829Z"
    },
    "executionInfo": {
     "elapsed": 1633,
     "status": "ok",
     "timestamp": 1598848692463,
     "user": {
      "displayName": "Pranjal Taye",
      "photoUrl": "",
      "userId": "08038041687747372073"
     },
     "user_tz": -330
    },
    "id": "iAc8z97wwAjm",
    "outputId": "1172fde3-6c93-406a-8351-000ed47a81cc",
    "papermill": {
     "duration": 0.053353,
     "end_time": "2023-03-04T06:57:37.693018",
     "exception": false,
     "start_time": "2023-03-04T06:57:37.639665",
     "status": "completed"
    },
    "tags": []
   },
   "outputs": [
    {
     "data": {
      "text/plain": [
       "Low Viz     4403\n",
       "Viz         2557\n",
       "High Viz     893\n",
       "Name: Item_Visibility_bins, dtype: int64"
      ]
     },
     "execution_count": 27,
     "metadata": {},
     "output_type": "execute_result"
    }
   ],
   "source": [
    "train['Item_Visibility_bins'].value_counts()"
   ]
  },
  {
   "cell_type": "code",
   "execution_count": 28,
   "id": "848e5760",
   "metadata": {
    "execution": {
     "iopub.execute_input": "2023-03-04T06:57:37.763690Z",
     "iopub.status.busy": "2023-03-04T06:57:37.762796Z",
     "iopub.status.idle": "2023-03-04T06:57:37.770689Z",
     "shell.execute_reply": "2023-03-04T06:57:37.768994Z"
    },
    "executionInfo": {
     "elapsed": 1343,
     "status": "ok",
     "timestamp": 1598848697104,
     "user": {
      "displayName": "Pranjal Taye",
      "photoUrl": "",
      "userId": "08038041687747372073"
     },
     "user_tz": -330
    },
    "id": "Jeh0N97kwAjo",
    "papermill": {
     "duration": 0.047406,
     "end_time": "2023-03-04T06:57:37.774882",
     "exception": false,
     "start_time": "2023-03-04T06:57:37.727476",
     "status": "completed"
    },
    "tags": []
   },
   "outputs": [
    {
     "name": "stderr",
     "output_type": "stream",
     "text": [
      "/opt/conda/lib/python3.7/site-packages/ipykernel_launcher.py:1: SettingWithCopyWarning: \n",
      "A value is trying to be set on a copy of a slice from a DataFrame.\n",
      "Try using .loc[row_indexer,col_indexer] = value instead\n",
      "\n",
      "See the caveats in the documentation: https://pandas.pydata.org/pandas-docs/stable/user_guide/indexing.html#returning-a-view-versus-a-copy\n",
      "  \"\"\"Entry point for launching an IPython kernel.\n"
     ]
    }
   ],
   "source": [
    "train['Item_Visibility_bins'] = train['Item_Visibility_bins'].replace(np.nan,'Low Viz',regex=True)\n"
   ]
  },
  {
   "cell_type": "code",
   "execution_count": 29,
   "id": "67f0104d",
   "metadata": {
    "execution": {
     "iopub.execute_input": "2023-03-04T06:57:37.846448Z",
     "iopub.status.busy": "2023-03-04T06:57:37.846011Z",
     "iopub.status.idle": "2023-03-04T06:57:37.855034Z",
     "shell.execute_reply": "2023-03-04T06:57:37.853731Z"
    },
    "executionInfo": {
     "elapsed": 1317,
     "status": "ok",
     "timestamp": 1598848703244,
     "user": {
      "displayName": "Pranjal Taye",
      "photoUrl": "",
      "userId": "08038041687747372073"
     },
     "user_tz": -330
    },
    "id": "hrJrrdrQwAjr",
    "papermill": {
     "duration": 0.048469,
     "end_time": "2023-03-04T06:57:37.857872",
     "exception": false,
     "start_time": "2023-03-04T06:57:37.809403",
     "status": "completed"
    },
    "tags": []
   },
   "outputs": [
    {
     "name": "stderr",
     "output_type": "stream",
     "text": [
      "/opt/conda/lib/python3.7/site-packages/ipykernel_launcher.py:1: SettingWithCopyWarning: \n",
      "A value is trying to be set on a copy of a slice from a DataFrame.\n",
      "Try using .loc[row_indexer,col_indexer] = value instead\n",
      "\n",
      "See the caveats in the documentation: https://pandas.pydata.org/pandas-docs/stable/user_guide/indexing.html#returning-a-view-versus-a-copy\n",
      "  \"\"\"Entry point for launching an IPython kernel.\n"
     ]
    }
   ],
   "source": [
    "train['Item_Fat_Content'] = train['Item_Fat_Content'].replace(['low fat', 'LF'], 'Low Fat')"
   ]
  },
  {
   "cell_type": "code",
   "execution_count": 30,
   "id": "14209a9c",
   "metadata": {
    "execution": {
     "iopub.execute_input": "2023-03-04T06:57:37.930493Z",
     "iopub.status.busy": "2023-03-04T06:57:37.929589Z",
     "iopub.status.idle": "2023-03-04T06:57:37.937943Z",
     "shell.execute_reply": "2023-03-04T06:57:37.936538Z"
    },
    "executionInfo": {
     "elapsed": 1681,
     "status": "ok",
     "timestamp": 1598848733327,
     "user": {
      "displayName": "Pranjal Taye",
      "photoUrl": "",
      "userId": "08038041687747372073"
     },
     "user_tz": -330
    },
    "id": "pDZDUKHgwAjv",
    "papermill": {
     "duration": 0.049404,
     "end_time": "2023-03-04T06:57:37.940404",
     "exception": false,
     "start_time": "2023-03-04T06:57:37.891000",
     "status": "completed"
    },
    "tags": []
   },
   "outputs": [
    {
     "name": "stderr",
     "output_type": "stream",
     "text": [
      "/opt/conda/lib/python3.7/site-packages/ipykernel_launcher.py:1: SettingWithCopyWarning: \n",
      "A value is trying to be set on a copy of a slice from a DataFrame.\n",
      "Try using .loc[row_indexer,col_indexer] = value instead\n",
      "\n",
      "See the caveats in the documentation: https://pandas.pydata.org/pandas-docs/stable/user_guide/indexing.html#returning-a-view-versus-a-copy\n",
      "  \"\"\"Entry point for launching an IPython kernel.\n"
     ]
    }
   ],
   "source": [
    "train['Item_Fat_Content'] = train['Item_Fat_Content'].replace('reg', 'Regular')"
   ]
  },
  {
   "cell_type": "code",
   "execution_count": 31,
   "id": "a79b8a36",
   "metadata": {
    "execution": {
     "iopub.execute_input": "2023-03-04T06:57:38.011392Z",
     "iopub.status.busy": "2023-03-04T06:57:38.010650Z",
     "iopub.status.idle": "2023-03-04T06:57:38.038041Z",
     "shell.execute_reply": "2023-03-04T06:57:38.036502Z"
    },
    "executionInfo": {
     "elapsed": 1574,
     "status": "ok",
     "timestamp": 1598848736733,
     "user": {
      "displayName": "Pranjal Taye",
      "photoUrl": "",
      "userId": "08038041687747372073"
     },
     "user_tz": -330
    },
    "id": "OIhHU05PwAjy",
    "outputId": "f47600c1-9712-45d7-8745-cb184b0469c9",
    "papermill": {
     "duration": 0.066568,
     "end_time": "2023-03-04T06:57:38.040961",
     "exception": false,
     "start_time": "2023-03-04T06:57:37.974393",
     "status": "completed"
    },
    "tags": []
   },
   "outputs": [
    {
     "data": {
      "text/html": [
       "<div>\n",
       "<style scoped>\n",
       "    .dataframe tbody tr th:only-of-type {\n",
       "        vertical-align: middle;\n",
       "    }\n",
       "\n",
       "    .dataframe tbody tr th {\n",
       "        vertical-align: top;\n",
       "    }\n",
       "\n",
       "    .dataframe thead th {\n",
       "        text-align: right;\n",
       "    }\n",
       "</style>\n",
       "<table border=\"1\" class=\"dataframe\">\n",
       "  <thead>\n",
       "    <tr style=\"text-align: right;\">\n",
       "      <th></th>\n",
       "      <th>Item_Identifier</th>\n",
       "      <th>Item_Weight</th>\n",
       "      <th>Item_Fat_Content</th>\n",
       "      <th>Item_Visibility</th>\n",
       "      <th>Item_Type</th>\n",
       "      <th>Item_MRP</th>\n",
       "      <th>Outlet_Identifier</th>\n",
       "      <th>Outlet_Establishment_Year</th>\n",
       "      <th>Outlet_Size</th>\n",
       "      <th>Outlet_Location_Type</th>\n",
       "      <th>Outlet_Type</th>\n",
       "      <th>Item_Outlet_Sales</th>\n",
       "      <th>Outlet_Age</th>\n",
       "      <th>Item_Visibility_bins</th>\n",
       "    </tr>\n",
       "  </thead>\n",
       "  <tbody>\n",
       "    <tr>\n",
       "      <th>0</th>\n",
       "      <td>FDA15</td>\n",
       "      <td>9.300000</td>\n",
       "      <td>Low Fat</td>\n",
       "      <td>0.016047</td>\n",
       "      <td>Dairy</td>\n",
       "      <td>249.8092</td>\n",
       "      <td>OUT049</td>\n",
       "      <td>1999</td>\n",
       "      <td>Medium</td>\n",
       "      <td>Tier 1</td>\n",
       "      <td>Supermarket Type1</td>\n",
       "      <td>3735.1380</td>\n",
       "      <td>24</td>\n",
       "      <td>Low Viz</td>\n",
       "    </tr>\n",
       "    <tr>\n",
       "      <th>1</th>\n",
       "      <td>DRC01</td>\n",
       "      <td>5.920000</td>\n",
       "      <td>Regular</td>\n",
       "      <td>0.019278</td>\n",
       "      <td>Soft Drinks</td>\n",
       "      <td>48.2692</td>\n",
       "      <td>OUT018</td>\n",
       "      <td>2009</td>\n",
       "      <td>Medium</td>\n",
       "      <td>Tier 3</td>\n",
       "      <td>Supermarket Type2</td>\n",
       "      <td>443.4228</td>\n",
       "      <td>14</td>\n",
       "      <td>Low Viz</td>\n",
       "    </tr>\n",
       "    <tr>\n",
       "      <th>2</th>\n",
       "      <td>FDN15</td>\n",
       "      <td>17.500000</td>\n",
       "      <td>Low Fat</td>\n",
       "      <td>0.016760</td>\n",
       "      <td>Meat</td>\n",
       "      <td>141.6180</td>\n",
       "      <td>OUT049</td>\n",
       "      <td>1999</td>\n",
       "      <td>Medium</td>\n",
       "      <td>Tier 1</td>\n",
       "      <td>Supermarket Type1</td>\n",
       "      <td>2097.2700</td>\n",
       "      <td>24</td>\n",
       "      <td>Low Viz</td>\n",
       "    </tr>\n",
       "    <tr>\n",
       "      <th>3</th>\n",
       "      <td>FDX07</td>\n",
       "      <td>19.200000</td>\n",
       "      <td>Regular</td>\n",
       "      <td>0.000000</td>\n",
       "      <td>Fruits and Vegetables</td>\n",
       "      <td>182.0950</td>\n",
       "      <td>OUT010</td>\n",
       "      <td>1998</td>\n",
       "      <td>Medium</td>\n",
       "      <td>Tier 3</td>\n",
       "      <td>Grocery Store</td>\n",
       "      <td>732.3800</td>\n",
       "      <td>25</td>\n",
       "      <td>NaN</td>\n",
       "    </tr>\n",
       "    <tr>\n",
       "      <th>4</th>\n",
       "      <td>NCD19</td>\n",
       "      <td>8.930000</td>\n",
       "      <td>Low Fat</td>\n",
       "      <td>0.000000</td>\n",
       "      <td>Household</td>\n",
       "      <td>53.8614</td>\n",
       "      <td>OUT013</td>\n",
       "      <td>1987</td>\n",
       "      <td>High</td>\n",
       "      <td>Tier 3</td>\n",
       "      <td>Supermarket Type1</td>\n",
       "      <td>994.7052</td>\n",
       "      <td>36</td>\n",
       "      <td>NaN</td>\n",
       "    </tr>\n",
       "    <tr>\n",
       "      <th>5</th>\n",
       "      <td>FDP36</td>\n",
       "      <td>10.395000</td>\n",
       "      <td>Regular</td>\n",
       "      <td>0.000000</td>\n",
       "      <td>Baking Goods</td>\n",
       "      <td>51.4008</td>\n",
       "      <td>OUT018</td>\n",
       "      <td>2009</td>\n",
       "      <td>Medium</td>\n",
       "      <td>Tier 3</td>\n",
       "      <td>Supermarket Type2</td>\n",
       "      <td>556.6088</td>\n",
       "      <td>14</td>\n",
       "      <td>NaN</td>\n",
       "    </tr>\n",
       "    <tr>\n",
       "      <th>6</th>\n",
       "      <td>FDO10</td>\n",
       "      <td>13.650000</td>\n",
       "      <td>Regular</td>\n",
       "      <td>0.012741</td>\n",
       "      <td>Snack Foods</td>\n",
       "      <td>57.6588</td>\n",
       "      <td>OUT013</td>\n",
       "      <td>1987</td>\n",
       "      <td>High</td>\n",
       "      <td>Tier 3</td>\n",
       "      <td>Supermarket Type1</td>\n",
       "      <td>343.5528</td>\n",
       "      <td>36</td>\n",
       "      <td>Low Viz</td>\n",
       "    </tr>\n",
       "    <tr>\n",
       "      <th>7</th>\n",
       "      <td>FDP10</td>\n",
       "      <td>12.857645</td>\n",
       "      <td>Low Fat</td>\n",
       "      <td>0.127470</td>\n",
       "      <td>Snack Foods</td>\n",
       "      <td>107.7622</td>\n",
       "      <td>OUT027</td>\n",
       "      <td>1985</td>\n",
       "      <td>Medium</td>\n",
       "      <td>Tier 3</td>\n",
       "      <td>Supermarket Type3</td>\n",
       "      <td>4022.7636</td>\n",
       "      <td>38</td>\n",
       "      <td>Viz</td>\n",
       "    </tr>\n",
       "    <tr>\n",
       "      <th>8</th>\n",
       "      <td>FDH17</td>\n",
       "      <td>16.200000</td>\n",
       "      <td>Regular</td>\n",
       "      <td>0.016687</td>\n",
       "      <td>Frozen Foods</td>\n",
       "      <td>96.9726</td>\n",
       "      <td>OUT045</td>\n",
       "      <td>2002</td>\n",
       "      <td>Medium</td>\n",
       "      <td>Tier 2</td>\n",
       "      <td>Supermarket Type1</td>\n",
       "      <td>1076.5986</td>\n",
       "      <td>21</td>\n",
       "      <td>Low Viz</td>\n",
       "    </tr>\n",
       "    <tr>\n",
       "      <th>9</th>\n",
       "      <td>FDU28</td>\n",
       "      <td>19.200000</td>\n",
       "      <td>Regular</td>\n",
       "      <td>0.094450</td>\n",
       "      <td>Frozen Foods</td>\n",
       "      <td>187.8214</td>\n",
       "      <td>OUT017</td>\n",
       "      <td>2007</td>\n",
       "      <td>Medium</td>\n",
       "      <td>Tier 2</td>\n",
       "      <td>Supermarket Type1</td>\n",
       "      <td>4710.5350</td>\n",
       "      <td>16</td>\n",
       "      <td>Viz</td>\n",
       "    </tr>\n",
       "    <tr>\n",
       "      <th>10</th>\n",
       "      <td>FDY07</td>\n",
       "      <td>11.800000</td>\n",
       "      <td>Low Fat</td>\n",
       "      <td>0.000000</td>\n",
       "      <td>Fruits and Vegetables</td>\n",
       "      <td>45.5402</td>\n",
       "      <td>OUT049</td>\n",
       "      <td>1999</td>\n",
       "      <td>Medium</td>\n",
       "      <td>Tier 1</td>\n",
       "      <td>Supermarket Type1</td>\n",
       "      <td>1516.0266</td>\n",
       "      <td>24</td>\n",
       "      <td>NaN</td>\n",
       "    </tr>\n",
       "    <tr>\n",
       "      <th>11</th>\n",
       "      <td>FDA03</td>\n",
       "      <td>18.500000</td>\n",
       "      <td>Regular</td>\n",
       "      <td>0.045464</td>\n",
       "      <td>Dairy</td>\n",
       "      <td>144.1102</td>\n",
       "      <td>OUT046</td>\n",
       "      <td>1997</td>\n",
       "      <td>Small</td>\n",
       "      <td>Tier 1</td>\n",
       "      <td>Supermarket Type1</td>\n",
       "      <td>2187.1530</td>\n",
       "      <td>26</td>\n",
       "      <td>Low Viz</td>\n",
       "    </tr>\n",
       "    <tr>\n",
       "      <th>12</th>\n",
       "      <td>FDX32</td>\n",
       "      <td>15.100000</td>\n",
       "      <td>Regular</td>\n",
       "      <td>0.100014</td>\n",
       "      <td>Fruits and Vegetables</td>\n",
       "      <td>145.4786</td>\n",
       "      <td>OUT049</td>\n",
       "      <td>1999</td>\n",
       "      <td>Medium</td>\n",
       "      <td>Tier 1</td>\n",
       "      <td>Supermarket Type1</td>\n",
       "      <td>1589.2646</td>\n",
       "      <td>24</td>\n",
       "      <td>Viz</td>\n",
       "    </tr>\n",
       "    <tr>\n",
       "      <th>13</th>\n",
       "      <td>FDS46</td>\n",
       "      <td>17.600000</td>\n",
       "      <td>Regular</td>\n",
       "      <td>0.047257</td>\n",
       "      <td>Snack Foods</td>\n",
       "      <td>119.6782</td>\n",
       "      <td>OUT046</td>\n",
       "      <td>1997</td>\n",
       "      <td>Small</td>\n",
       "      <td>Tier 1</td>\n",
       "      <td>Supermarket Type1</td>\n",
       "      <td>2145.2076</td>\n",
       "      <td>26</td>\n",
       "      <td>Low Viz</td>\n",
       "    </tr>\n",
       "    <tr>\n",
       "      <th>14</th>\n",
       "      <td>FDF32</td>\n",
       "      <td>16.350000</td>\n",
       "      <td>Low Fat</td>\n",
       "      <td>0.068024</td>\n",
       "      <td>Fruits and Vegetables</td>\n",
       "      <td>196.4426</td>\n",
       "      <td>OUT013</td>\n",
       "      <td>1987</td>\n",
       "      <td>High</td>\n",
       "      <td>Tier 3</td>\n",
       "      <td>Supermarket Type1</td>\n",
       "      <td>1977.4260</td>\n",
       "      <td>36</td>\n",
       "      <td>Viz</td>\n",
       "    </tr>\n",
       "    <tr>\n",
       "      <th>15</th>\n",
       "      <td>FDP49</td>\n",
       "      <td>9.000000</td>\n",
       "      <td>Regular</td>\n",
       "      <td>0.069089</td>\n",
       "      <td>Breakfast</td>\n",
       "      <td>56.3614</td>\n",
       "      <td>OUT046</td>\n",
       "      <td>1997</td>\n",
       "      <td>Small</td>\n",
       "      <td>Tier 1</td>\n",
       "      <td>Supermarket Type1</td>\n",
       "      <td>1547.3192</td>\n",
       "      <td>26</td>\n",
       "      <td>Viz</td>\n",
       "    </tr>\n",
       "    <tr>\n",
       "      <th>16</th>\n",
       "      <td>NCB42</td>\n",
       "      <td>11.800000</td>\n",
       "      <td>Low Fat</td>\n",
       "      <td>0.008596</td>\n",
       "      <td>Health and Hygiene</td>\n",
       "      <td>115.3492</td>\n",
       "      <td>OUT018</td>\n",
       "      <td>2009</td>\n",
       "      <td>Medium</td>\n",
       "      <td>Tier 3</td>\n",
       "      <td>Supermarket Type2</td>\n",
       "      <td>1621.8888</td>\n",
       "      <td>14</td>\n",
       "      <td>Low Viz</td>\n",
       "    </tr>\n",
       "    <tr>\n",
       "      <th>17</th>\n",
       "      <td>FDP49</td>\n",
       "      <td>9.000000</td>\n",
       "      <td>Regular</td>\n",
       "      <td>0.069196</td>\n",
       "      <td>Breakfast</td>\n",
       "      <td>54.3614</td>\n",
       "      <td>OUT049</td>\n",
       "      <td>1999</td>\n",
       "      <td>Medium</td>\n",
       "      <td>Tier 1</td>\n",
       "      <td>Supermarket Type1</td>\n",
       "      <td>718.3982</td>\n",
       "      <td>24</td>\n",
       "      <td>Viz</td>\n",
       "    </tr>\n",
       "    <tr>\n",
       "      <th>18</th>\n",
       "      <td>DRI11</td>\n",
       "      <td>12.857645</td>\n",
       "      <td>Low Fat</td>\n",
       "      <td>0.034238</td>\n",
       "      <td>Hard Drinks</td>\n",
       "      <td>113.2834</td>\n",
       "      <td>OUT027</td>\n",
       "      <td>1985</td>\n",
       "      <td>Medium</td>\n",
       "      <td>Tier 3</td>\n",
       "      <td>Supermarket Type3</td>\n",
       "      <td>2303.6680</td>\n",
       "      <td>38</td>\n",
       "      <td>Low Viz</td>\n",
       "    </tr>\n",
       "    <tr>\n",
       "      <th>19</th>\n",
       "      <td>FDU02</td>\n",
       "      <td>13.350000</td>\n",
       "      <td>Low Fat</td>\n",
       "      <td>0.102492</td>\n",
       "      <td>Dairy</td>\n",
       "      <td>230.5352</td>\n",
       "      <td>OUT035</td>\n",
       "      <td>2004</td>\n",
       "      <td>Small</td>\n",
       "      <td>Tier 2</td>\n",
       "      <td>Supermarket Type1</td>\n",
       "      <td>2748.4224</td>\n",
       "      <td>19</td>\n",
       "      <td>Viz</td>\n",
       "    </tr>\n",
       "  </tbody>\n",
       "</table>\n",
       "</div>"
      ],
      "text/plain": [
       "   Item_Identifier  Item_Weight Item_Fat_Content  Item_Visibility  \\\n",
       "0            FDA15     9.300000          Low Fat         0.016047   \n",
       "1            DRC01     5.920000          Regular         0.019278   \n",
       "2            FDN15    17.500000          Low Fat         0.016760   \n",
       "3            FDX07    19.200000          Regular         0.000000   \n",
       "4            NCD19     8.930000          Low Fat         0.000000   \n",
       "5            FDP36    10.395000          Regular         0.000000   \n",
       "6            FDO10    13.650000          Regular         0.012741   \n",
       "7            FDP10    12.857645          Low Fat         0.127470   \n",
       "8            FDH17    16.200000          Regular         0.016687   \n",
       "9            FDU28    19.200000          Regular         0.094450   \n",
       "10           FDY07    11.800000          Low Fat         0.000000   \n",
       "11           FDA03    18.500000          Regular         0.045464   \n",
       "12           FDX32    15.100000          Regular         0.100014   \n",
       "13           FDS46    17.600000          Regular         0.047257   \n",
       "14           FDF32    16.350000          Low Fat         0.068024   \n",
       "15           FDP49     9.000000          Regular         0.069089   \n",
       "16           NCB42    11.800000          Low Fat         0.008596   \n",
       "17           FDP49     9.000000          Regular         0.069196   \n",
       "18           DRI11    12.857645          Low Fat         0.034238   \n",
       "19           FDU02    13.350000          Low Fat         0.102492   \n",
       "\n",
       "                Item_Type  Item_MRP Outlet_Identifier  \\\n",
       "0                   Dairy  249.8092            OUT049   \n",
       "1             Soft Drinks   48.2692            OUT018   \n",
       "2                    Meat  141.6180            OUT049   \n",
       "3   Fruits and Vegetables  182.0950            OUT010   \n",
       "4               Household   53.8614            OUT013   \n",
       "5            Baking Goods   51.4008            OUT018   \n",
       "6             Snack Foods   57.6588            OUT013   \n",
       "7             Snack Foods  107.7622            OUT027   \n",
       "8            Frozen Foods   96.9726            OUT045   \n",
       "9            Frozen Foods  187.8214            OUT017   \n",
       "10  Fruits and Vegetables   45.5402            OUT049   \n",
       "11                  Dairy  144.1102            OUT046   \n",
       "12  Fruits and Vegetables  145.4786            OUT049   \n",
       "13            Snack Foods  119.6782            OUT046   \n",
       "14  Fruits and Vegetables  196.4426            OUT013   \n",
       "15              Breakfast   56.3614            OUT046   \n",
       "16     Health and Hygiene  115.3492            OUT018   \n",
       "17              Breakfast   54.3614            OUT049   \n",
       "18            Hard Drinks  113.2834            OUT027   \n",
       "19                  Dairy  230.5352            OUT035   \n",
       "\n",
       "    Outlet_Establishment_Year Outlet_Size Outlet_Location_Type  \\\n",
       "0                        1999      Medium               Tier 1   \n",
       "1                        2009      Medium               Tier 3   \n",
       "2                        1999      Medium               Tier 1   \n",
       "3                        1998      Medium               Tier 3   \n",
       "4                        1987        High               Tier 3   \n",
       "5                        2009      Medium               Tier 3   \n",
       "6                        1987        High               Tier 3   \n",
       "7                        1985      Medium               Tier 3   \n",
       "8                        2002      Medium               Tier 2   \n",
       "9                        2007      Medium               Tier 2   \n",
       "10                       1999      Medium               Tier 1   \n",
       "11                       1997       Small               Tier 1   \n",
       "12                       1999      Medium               Tier 1   \n",
       "13                       1997       Small               Tier 1   \n",
       "14                       1987        High               Tier 3   \n",
       "15                       1997       Small               Tier 1   \n",
       "16                       2009      Medium               Tier 3   \n",
       "17                       1999      Medium               Tier 1   \n",
       "18                       1985      Medium               Tier 3   \n",
       "19                       2004       Small               Tier 2   \n",
       "\n",
       "          Outlet_Type  Item_Outlet_Sales  Outlet_Age Item_Visibility_bins  \n",
       "0   Supermarket Type1          3735.1380          24              Low Viz  \n",
       "1   Supermarket Type2           443.4228          14              Low Viz  \n",
       "2   Supermarket Type1          2097.2700          24              Low Viz  \n",
       "3       Grocery Store           732.3800          25                  NaN  \n",
       "4   Supermarket Type1           994.7052          36                  NaN  \n",
       "5   Supermarket Type2           556.6088          14                  NaN  \n",
       "6   Supermarket Type1           343.5528          36              Low Viz  \n",
       "7   Supermarket Type3          4022.7636          38                  Viz  \n",
       "8   Supermarket Type1          1076.5986          21              Low Viz  \n",
       "9   Supermarket Type1          4710.5350          16                  Viz  \n",
       "10  Supermarket Type1          1516.0266          24                  NaN  \n",
       "11  Supermarket Type1          2187.1530          26              Low Viz  \n",
       "12  Supermarket Type1          1589.2646          24                  Viz  \n",
       "13  Supermarket Type1          2145.2076          26              Low Viz  \n",
       "14  Supermarket Type1          1977.4260          36                  Viz  \n",
       "15  Supermarket Type1          1547.3192          26                  Viz  \n",
       "16  Supermarket Type2          1621.8888          14              Low Viz  \n",
       "17  Supermarket Type1           718.3982          24                  Viz  \n",
       "18  Supermarket Type3          2303.6680          38              Low Viz  \n",
       "19  Supermarket Type1          2748.4224          19                  Viz  "
      ]
     },
     "execution_count": 31,
     "metadata": {},
     "output_type": "execute_result"
    }
   ],
   "source": [
    "train.head(20)"
   ]
  },
  {
   "cell_type": "markdown",
   "id": "e8e5961c",
   "metadata": {
    "id": "XLqhB0Z5wAj0",
    "papermill": {
     "duration": 0.035531,
     "end_time": "2023-03-04T06:57:38.110314",
     "exception": false,
     "start_time": "2023-03-04T06:57:38.074783",
     "status": "completed"
    },
    "tags": []
   },
   "source": [
    "**Encoding Categorical Variables**\n"
   ]
  },
  {
   "cell_type": "code",
   "execution_count": 32,
   "id": "a826d0b4",
   "metadata": {
    "execution": {
     "iopub.execute_input": "2023-03-04T06:57:38.181043Z",
     "iopub.status.busy": "2023-03-04T06:57:38.180364Z",
     "iopub.status.idle": "2023-03-04T06:57:38.193818Z",
     "shell.execute_reply": "2023-03-04T06:57:38.192687Z"
    },
    "papermill": {
     "duration": 0.05215,
     "end_time": "2023-03-04T06:57:38.196435",
     "exception": false,
     "start_time": "2023-03-04T06:57:38.144285",
     "status": "completed"
    },
    "tags": []
   },
   "outputs": [
    {
     "data": {
      "text/plain": [
       "Item_Identifier                0\n",
       "Item_Weight                    0\n",
       "Item_Fat_Content               0\n",
       "Item_Visibility                0\n",
       "Item_Type                      0\n",
       "Item_MRP                       0\n",
       "Outlet_Identifier              0\n",
       "Outlet_Establishment_Year      0\n",
       "Outlet_Size                    0\n",
       "Outlet_Location_Type           0\n",
       "Outlet_Type                    0\n",
       "Item_Outlet_Sales              0\n",
       "Outlet_Age                     0\n",
       "Item_Visibility_bins         526\n",
       "dtype: int64"
      ]
     },
     "execution_count": 32,
     "metadata": {},
     "output_type": "execute_result"
    }
   ],
   "source": [
    "train.isnull().sum()"
   ]
  },
  {
   "cell_type": "code",
   "execution_count": 33,
   "id": "3f3a2df8",
   "metadata": {
    "execution": {
     "iopub.execute_input": "2023-03-04T06:57:38.267996Z",
     "iopub.status.busy": "2023-03-04T06:57:38.267553Z",
     "iopub.status.idle": "2023-03-04T06:57:38.278066Z",
     "shell.execute_reply": "2023-03-04T06:57:38.276744Z"
    },
    "papermill": {
     "duration": 0.050558,
     "end_time": "2023-03-04T06:57:38.281555",
     "exception": false,
     "start_time": "2023-03-04T06:57:38.230997",
     "status": "completed"
    },
    "tags": []
   },
   "outputs": [
    {
     "data": {
      "text/plain": [
       "Low Viz     4403\n",
       "Viz         2557\n",
       "High Viz     893\n",
       "Name: Item_Visibility_bins, dtype: int64"
      ]
     },
     "execution_count": 33,
     "metadata": {},
     "output_type": "execute_result"
    }
   ],
   "source": [
    "train.Item_Visibility_bins.value_counts()"
   ]
  },
  {
   "cell_type": "raw",
   "id": "7f85569d",
   "metadata": {
    "jupyter": {
     "source_hidden": true
    },
    "papermill": {
     "duration": 0.034509,
     "end_time": "2023-03-04T06:57:38.352062",
     "exception": false,
     "start_time": "2023-03-04T06:57:38.317553",
     "status": "completed"
    },
    "tags": []
   },
   "source": []
  },
  {
   "cell_type": "code",
   "execution_count": 34,
   "id": "c17b55ef",
   "metadata": {
    "execution": {
     "iopub.execute_input": "2023-03-04T06:57:38.425155Z",
     "iopub.status.busy": "2023-03-04T06:57:38.424710Z",
     "iopub.status.idle": "2023-03-04T06:57:38.435900Z",
     "shell.execute_reply": "2023-03-04T06:57:38.434648Z"
    },
    "papermill": {
     "duration": 0.051941,
     "end_time": "2023-03-04T06:57:38.438495",
     "exception": false,
     "start_time": "2023-03-04T06:57:38.386554",
     "status": "completed"
    },
    "tags": []
   },
   "outputs": [
    {
     "data": {
      "text/plain": [
       "False    7853\n",
       "True      526\n",
       "Name: Item_Visibility_bins, dtype: int64"
      ]
     },
     "execution_count": 34,
     "metadata": {},
     "output_type": "execute_result"
    }
   ],
   "source": [
    "train.Item_Visibility_bins.isnull().value_counts()"
   ]
  },
  {
   "cell_type": "code",
   "execution_count": null,
   "id": "83f63b29",
   "metadata": {
    "papermill": {
     "duration": 0.034886,
     "end_time": "2023-03-04T06:57:38.508387",
     "exception": false,
     "start_time": "2023-03-04T06:57:38.473501",
     "status": "completed"
    },
    "tags": []
   },
   "outputs": [],
   "source": []
  },
  {
   "cell_type": "code",
   "execution_count": 35,
   "id": "dc3f1130",
   "metadata": {
    "execution": {
     "iopub.execute_input": "2023-03-04T06:57:38.581430Z",
     "iopub.status.busy": "2023-03-04T06:57:38.580245Z",
     "iopub.status.idle": "2023-03-04T06:57:38.593665Z",
     "shell.execute_reply": "2023-03-04T06:57:38.592076Z"
    },
    "papermill": {
     "duration": 0.052917,
     "end_time": "2023-03-04T06:57:38.596716",
     "exception": false,
     "start_time": "2023-03-04T06:57:38.543799",
     "status": "completed"
    },
    "tags": []
   },
   "outputs": [
    {
     "name": "stderr",
     "output_type": "stream",
     "text": [
      "/opt/conda/lib/python3.7/site-packages/pandas/core/generic.py:6392: SettingWithCopyWarning: \n",
      "A value is trying to be set on a copy of a slice from a DataFrame\n",
      "\n",
      "See the caveats in the documentation: https://pandas.pydata.org/pandas-docs/stable/user_guide/indexing.html#returning-a-view-versus-a-copy\n",
      "  return self._update_inplace(result)\n"
     ]
    }
   ],
   "source": [
    "train.Item_Visibility_bins.fillna('Low Viz', inplace=True)"
   ]
  },
  {
   "cell_type": "code",
   "execution_count": 36,
   "id": "7578bf1a",
   "metadata": {
    "execution": {
     "iopub.execute_input": "2023-03-04T06:57:38.668433Z",
     "iopub.status.busy": "2023-03-04T06:57:38.667951Z",
     "iopub.status.idle": "2023-03-04T06:57:38.676060Z",
     "shell.execute_reply": "2023-03-04T06:57:38.675162Z"
    },
    "papermill": {
     "duration": 0.046675,
     "end_time": "2023-03-04T06:57:38.678461",
     "exception": false,
     "start_time": "2023-03-04T06:57:38.631786",
     "status": "completed"
    },
    "tags": []
   },
   "outputs": [
    {
     "data": {
      "text/plain": [
       "0"
      ]
     },
     "execution_count": 36,
     "metadata": {},
     "output_type": "execute_result"
    }
   ],
   "source": [
    "train.Item_Visibility_bins.isna().sum()"
   ]
  },
  {
   "cell_type": "code",
   "execution_count": 37,
   "id": "7ab6d972",
   "metadata": {
    "execution": {
     "iopub.execute_input": "2023-03-04T06:57:38.751905Z",
     "iopub.status.busy": "2023-03-04T06:57:38.751358Z",
     "iopub.status.idle": "2023-03-04T06:57:38.756941Z",
     "shell.execute_reply": "2023-03-04T06:57:38.755505Z"
    },
    "executionInfo": {
     "elapsed": 1215,
     "status": "ok",
     "timestamp": 1598848773019,
     "user": {
      "displayName": "Pranjal Taye",
      "photoUrl": "",
      "userId": "08038041687747372073"
     },
     "user_tz": -330
    },
    "id": "qgMGNiMwwAj1",
    "papermill": {
     "duration": 0.04526,
     "end_time": "2023-03-04T06:57:38.759398",
     "exception": false,
     "start_time": "2023-03-04T06:57:38.714138",
     "status": "completed"
    },
    "tags": []
   },
   "outputs": [],
   "source": [
    "le = LabelEncoder()"
   ]
  },
  {
   "cell_type": "code",
   "execution_count": 38,
   "id": "9997165d",
   "metadata": {
    "execution": {
     "iopub.execute_input": "2023-03-04T06:57:38.829914Z",
     "iopub.status.busy": "2023-03-04T06:57:38.829498Z",
     "iopub.status.idle": "2023-03-04T06:57:38.837618Z",
     "shell.execute_reply": "2023-03-04T06:57:38.836692Z"
    },
    "executionInfo": {
     "elapsed": 1563,
     "status": "ok",
     "timestamp": 1598848775637,
     "user": {
      "displayName": "Pranjal Taye",
      "photoUrl": "",
      "userId": "08038041687747372073"
     },
     "user_tz": -330
    },
    "id": "xgrLCuKPwAj3",
    "outputId": "a42848ca-c635-41e1-862e-06afbb0441a9",
    "papermill": {
     "duration": 0.046506,
     "end_time": "2023-03-04T06:57:38.839961",
     "exception": false,
     "start_time": "2023-03-04T06:57:38.793455",
     "status": "completed"
    },
    "tags": []
   },
   "outputs": [
    {
     "data": {
      "text/plain": [
       "array(['Low Fat', 'Regular'], dtype=object)"
      ]
     },
     "execution_count": 38,
     "metadata": {},
     "output_type": "execute_result"
    }
   ],
   "source": [
    "train['Item_Fat_Content'].unique()"
   ]
  },
  {
   "cell_type": "code",
   "execution_count": 39,
   "id": "dff4feea",
   "metadata": {
    "execution": {
     "iopub.execute_input": "2023-03-04T06:57:38.915084Z",
     "iopub.status.busy": "2023-03-04T06:57:38.913951Z",
     "iopub.status.idle": "2023-03-04T06:57:38.923802Z",
     "shell.execute_reply": "2023-03-04T06:57:38.922463Z"
    },
    "executionInfo": {
     "elapsed": 1672,
     "status": "ok",
     "timestamp": 1598848779454,
     "user": {
      "displayName": "Pranjal Taye",
      "photoUrl": "",
      "userId": "08038041687747372073"
     },
     "user_tz": -330
    },
    "id": "3VZtAxhWwAj6",
    "papermill": {
     "duration": 0.051729,
     "end_time": "2023-03-04T06:57:38.927452",
     "exception": false,
     "start_time": "2023-03-04T06:57:38.875723",
     "status": "completed"
    },
    "tags": []
   },
   "outputs": [
    {
     "name": "stderr",
     "output_type": "stream",
     "text": [
      "/opt/conda/lib/python3.7/site-packages/ipykernel_launcher.py:1: SettingWithCopyWarning: \n",
      "A value is trying to be set on a copy of a slice from a DataFrame.\n",
      "Try using .loc[row_indexer,col_indexer] = value instead\n",
      "\n",
      "See the caveats in the documentation: https://pandas.pydata.org/pandas-docs/stable/user_guide/indexing.html#returning-a-view-versus-a-copy\n",
      "  \"\"\"Entry point for launching an IPython kernel.\n"
     ]
    }
   ],
   "source": [
    "train['Item_Fat_Content'] = le.fit_transform(train['Item_Fat_Content'])"
   ]
  },
  {
   "cell_type": "code",
   "execution_count": 40,
   "id": "441a15a5",
   "metadata": {
    "execution": {
     "iopub.execute_input": "2023-03-04T06:57:38.999575Z",
     "iopub.status.busy": "2023-03-04T06:57:38.998861Z",
     "iopub.status.idle": "2023-03-04T06:57:39.008338Z",
     "shell.execute_reply": "2023-03-04T06:57:39.006968Z"
    },
    "executionInfo": {
     "elapsed": 1768,
     "status": "error",
     "timestamp": 1598848793253,
     "user": {
      "displayName": "Pranjal Taye",
      "photoUrl": "",
      "userId": "08038041687747372073"
     },
     "user_tz": -330
    },
    "id": "LBUghd24wAj9",
    "outputId": "b3c4b05a-79b5-4854-dc34-c44a4c44967e",
    "papermill": {
     "duration": 0.048643,
     "end_time": "2023-03-04T06:57:39.011372",
     "exception": false,
     "start_time": "2023-03-04T06:57:38.962729",
     "status": "completed"
    },
    "tags": []
   },
   "outputs": [
    {
     "name": "stderr",
     "output_type": "stream",
     "text": [
      "/opt/conda/lib/python3.7/site-packages/ipykernel_launcher.py:1: SettingWithCopyWarning: \n",
      "A value is trying to be set on a copy of a slice from a DataFrame.\n",
      "Try using .loc[row_indexer,col_indexer] = value instead\n",
      "\n",
      "See the caveats in the documentation: https://pandas.pydata.org/pandas-docs/stable/user_guide/indexing.html#returning-a-view-versus-a-copy\n",
      "  \"\"\"Entry point for launching an IPython kernel.\n"
     ]
    }
   ],
   "source": [
    "train['Item_Visibility_bins'] = le.fit_transform(train['Item_Visibility_bins'])"
   ]
  },
  {
   "cell_type": "code",
   "execution_count": 41,
   "id": "38c91e29",
   "metadata": {
    "execution": {
     "iopub.execute_input": "2023-03-04T06:57:39.082158Z",
     "iopub.status.busy": "2023-03-04T06:57:39.081736Z",
     "iopub.status.idle": "2023-03-04T06:57:39.091492Z",
     "shell.execute_reply": "2023-03-04T06:57:39.090303Z"
    },
    "executionInfo": {
     "elapsed": 1343,
     "status": "ok",
     "timestamp": 1598848174326,
     "user": {
      "displayName": "Pranjal Taye",
      "photoUrl": "",
      "userId": "08038041687747372073"
     },
     "user_tz": -330
    },
    "id": "xNj4bEoLwAj_",
    "papermill": {
     "duration": 0.048946,
     "end_time": "2023-03-04T06:57:39.094498",
     "exception": false,
     "start_time": "2023-03-04T06:57:39.045552",
     "status": "completed"
    },
    "tags": []
   },
   "outputs": [
    {
     "name": "stderr",
     "output_type": "stream",
     "text": [
      "/opt/conda/lib/python3.7/site-packages/ipykernel_launcher.py:1: SettingWithCopyWarning: \n",
      "A value is trying to be set on a copy of a slice from a DataFrame.\n",
      "Try using .loc[row_indexer,col_indexer] = value instead\n",
      "\n",
      "See the caveats in the documentation: https://pandas.pydata.org/pandas-docs/stable/user_guide/indexing.html#returning-a-view-versus-a-copy\n",
      "  \"\"\"Entry point for launching an IPython kernel.\n"
     ]
    }
   ],
   "source": [
    "train['Outlet_Size'] = le.fit_transform(train['Outlet_Size'])"
   ]
  },
  {
   "cell_type": "code",
   "execution_count": 42,
   "id": "3bf95c38",
   "metadata": {
    "execution": {
     "iopub.execute_input": "2023-03-04T06:57:39.165043Z",
     "iopub.status.busy": "2023-03-04T06:57:39.164625Z",
     "iopub.status.idle": "2023-03-04T06:57:39.174504Z",
     "shell.execute_reply": "2023-03-04T06:57:39.173080Z"
    },
    "executionInfo": {
     "elapsed": 1753,
     "status": "ok",
     "timestamp": 1598848177889,
     "user": {
      "displayName": "Pranjal Taye",
      "photoUrl": "",
      "userId": "08038041687747372073"
     },
     "user_tz": -330
    },
    "id": "p8tlaszawAkC",
    "papermill": {
     "duration": 0.048519,
     "end_time": "2023-03-04T06:57:39.177398",
     "exception": false,
     "start_time": "2023-03-04T06:57:39.128879",
     "status": "completed"
    },
    "tags": []
   },
   "outputs": [
    {
     "name": "stderr",
     "output_type": "stream",
     "text": [
      "/opt/conda/lib/python3.7/site-packages/ipykernel_launcher.py:1: SettingWithCopyWarning: \n",
      "A value is trying to be set on a copy of a slice from a DataFrame.\n",
      "Try using .loc[row_indexer,col_indexer] = value instead\n",
      "\n",
      "See the caveats in the documentation: https://pandas.pydata.org/pandas-docs/stable/user_guide/indexing.html#returning-a-view-versus-a-copy\n",
      "  \"\"\"Entry point for launching an IPython kernel.\n"
     ]
    }
   ],
   "source": [
    "train['Outlet_Location_Type'] = le.fit_transform(train['Outlet_Location_Type'])"
   ]
  },
  {
   "cell_type": "code",
   "execution_count": 43,
   "id": "afa0292f",
   "metadata": {
    "execution": {
     "iopub.execute_input": "2023-03-04T06:57:39.249909Z",
     "iopub.status.busy": "2023-03-04T06:57:39.249506Z",
     "iopub.status.idle": "2023-03-04T06:57:39.254889Z",
     "shell.execute_reply": "2023-03-04T06:57:39.253512Z"
    },
    "id": "r0VV2dVvwAkE",
    "papermill": {
     "duration": 0.045143,
     "end_time": "2023-03-04T06:57:39.257167",
     "exception": false,
     "start_time": "2023-03-04T06:57:39.212024",
     "status": "completed"
    },
    "tags": []
   },
   "outputs": [],
   "source": [
    "# create dummies for outlet type"
   ]
  },
  {
   "cell_type": "code",
   "execution_count": 44,
   "id": "2db1d1ea",
   "metadata": {
    "execution": {
     "iopub.execute_input": "2023-03-04T06:57:39.334379Z",
     "iopub.status.busy": "2023-03-04T06:57:39.333875Z",
     "iopub.status.idle": "2023-03-04T06:57:39.349887Z",
     "shell.execute_reply": "2023-03-04T06:57:39.348903Z"
    },
    "executionInfo": {
     "elapsed": 1837,
     "status": "ok",
     "timestamp": 1598848184027,
     "user": {
      "displayName": "Pranjal Taye",
      "photoUrl": "",
      "userId": "08038041687747372073"
     },
     "user_tz": -330
    },
    "id": "kPwEnRWvwAkH",
    "outputId": "4506d51c-54fb-4d07-8f53-22ab5512988e",
    "papermill": {
     "duration": 0.058188,
     "end_time": "2023-03-04T06:57:39.352451",
     "exception": false,
     "start_time": "2023-03-04T06:57:39.294263",
     "status": "completed"
    },
    "tags": []
   },
   "outputs": [
    {
     "data": {
      "text/html": [
       "<div>\n",
       "<style scoped>\n",
       "    .dataframe tbody tr th:only-of-type {\n",
       "        vertical-align: middle;\n",
       "    }\n",
       "\n",
       "    .dataframe tbody tr th {\n",
       "        vertical-align: top;\n",
       "    }\n",
       "\n",
       "    .dataframe thead th {\n",
       "        text-align: right;\n",
       "    }\n",
       "</style>\n",
       "<table border=\"1\" class=\"dataframe\">\n",
       "  <thead>\n",
       "    <tr style=\"text-align: right;\">\n",
       "      <th></th>\n",
       "      <th>Grocery Store</th>\n",
       "      <th>Supermarket Type1</th>\n",
       "      <th>Supermarket Type2</th>\n",
       "      <th>Supermarket Type3</th>\n",
       "    </tr>\n",
       "  </thead>\n",
       "  <tbody>\n",
       "    <tr>\n",
       "      <th>0</th>\n",
       "      <td>0</td>\n",
       "      <td>1</td>\n",
       "      <td>0</td>\n",
       "      <td>0</td>\n",
       "    </tr>\n",
       "    <tr>\n",
       "      <th>1</th>\n",
       "      <td>0</td>\n",
       "      <td>0</td>\n",
       "      <td>1</td>\n",
       "      <td>0</td>\n",
       "    </tr>\n",
       "    <tr>\n",
       "      <th>2</th>\n",
       "      <td>0</td>\n",
       "      <td>1</td>\n",
       "      <td>0</td>\n",
       "      <td>0</td>\n",
       "    </tr>\n",
       "    <tr>\n",
       "      <th>3</th>\n",
       "      <td>1</td>\n",
       "      <td>0</td>\n",
       "      <td>0</td>\n",
       "      <td>0</td>\n",
       "    </tr>\n",
       "    <tr>\n",
       "      <th>4</th>\n",
       "      <td>0</td>\n",
       "      <td>1</td>\n",
       "      <td>0</td>\n",
       "      <td>0</td>\n",
       "    </tr>\n",
       "  </tbody>\n",
       "</table>\n",
       "</div>"
      ],
      "text/plain": [
       "   Grocery Store  Supermarket Type1  Supermarket Type2  Supermarket Type3\n",
       "0              0                  1                  0                  0\n",
       "1              0                  0                  1                  0\n",
       "2              0                  1                  0                  0\n",
       "3              1                  0                  0                  0\n",
       "4              0                  1                  0                  0"
      ]
     },
     "execution_count": 44,
     "metadata": {},
     "output_type": "execute_result"
    }
   ],
   "source": [
    "dummy = pd.get_dummies(train['Outlet_Type'])\n",
    "dummy.head()"
   ]
  },
  {
   "cell_type": "code",
   "execution_count": 45,
   "id": "2803ae40",
   "metadata": {
    "execution": {
     "iopub.execute_input": "2023-03-04T06:57:39.425129Z",
     "iopub.status.busy": "2023-03-04T06:57:39.424677Z",
     "iopub.status.idle": "2023-03-04T06:57:39.433847Z",
     "shell.execute_reply": "2023-03-04T06:57:39.432860Z"
    },
    "executionInfo": {
     "elapsed": 1978,
     "status": "ok",
     "timestamp": 1598848187484,
     "user": {
      "displayName": "Pranjal Taye",
      "photoUrl": "",
      "userId": "08038041687747372073"
     },
     "user_tz": -330
    },
    "id": "odtif1COwAkJ",
    "papermill": {
     "duration": 0.048717,
     "end_time": "2023-03-04T06:57:39.436726",
     "exception": false,
     "start_time": "2023-03-04T06:57:39.388009",
     "status": "completed"
    },
    "tags": []
   },
   "outputs": [],
   "source": [
    "train = pd.concat([train, dummy], axis=1)"
   ]
  },
  {
   "cell_type": "code",
   "execution_count": 46,
   "id": "07d3ce33",
   "metadata": {
    "execution": {
     "iopub.execute_input": "2023-03-04T06:57:39.511313Z",
     "iopub.status.busy": "2023-03-04T06:57:39.510823Z",
     "iopub.status.idle": "2023-03-04T06:57:39.519691Z",
     "shell.execute_reply": "2023-03-04T06:57:39.518736Z"
    },
    "executionInfo": {
     "elapsed": 1200,
     "status": "ok",
     "timestamp": 1598848189408,
     "user": {
      "displayName": "Pranjal Taye",
      "photoUrl": "",
      "userId": "08038041687747372073"
     },
     "user_tz": -330
    },
    "id": "knNZHYFCwAkM",
    "outputId": "9ce4c86f-cf85-4995-8a0e-a09f4f507f42",
    "papermill": {
     "duration": 0.049396,
     "end_time": "2023-03-04T06:57:39.521830",
     "exception": false,
     "start_time": "2023-03-04T06:57:39.472434",
     "status": "completed"
    },
    "tags": []
   },
   "outputs": [
    {
     "data": {
      "text/plain": [
       "Item_Identifier               object\n",
       "Item_Weight                  float64\n",
       "Item_Fat_Content               int64\n",
       "Item_Visibility              float64\n",
       "Item_Type                     object\n",
       "Item_MRP                     float64\n",
       "Outlet_Identifier             object\n",
       "Outlet_Establishment_Year      int64\n",
       "Outlet_Size                    int64\n",
       "Outlet_Location_Type           int64\n",
       "Outlet_Type                   object\n",
       "Item_Outlet_Sales            float64\n",
       "Outlet_Age                     int64\n",
       "Item_Visibility_bins           int64\n",
       "Grocery Store                  uint8\n",
       "Supermarket Type1              uint8\n",
       "Supermarket Type2              uint8\n",
       "Supermarket Type3              uint8\n",
       "dtype: object"
      ]
     },
     "execution_count": 46,
     "metadata": {},
     "output_type": "execute_result"
    }
   ],
   "source": [
    "train.dtypes"
   ]
  },
  {
   "cell_type": "code",
   "execution_count": 47,
   "id": "89c041fa",
   "metadata": {
    "execution": {
     "iopub.execute_input": "2023-03-04T06:57:39.594174Z",
     "iopub.status.busy": "2023-03-04T06:57:39.593759Z",
     "iopub.status.idle": "2023-03-04T06:57:39.601605Z",
     "shell.execute_reply": "2023-03-04T06:57:39.600664Z"
    },
    "executionInfo": {
     "elapsed": 1308,
     "status": "ok",
     "timestamp": 1598848192594,
     "user": {
      "displayName": "Pranjal Taye",
      "photoUrl": "",
      "userId": "08038041687747372073"
     },
     "user_tz": -330
    },
    "id": "-VPloCZ9wAkP",
    "papermill": {
     "duration": 0.046758,
     "end_time": "2023-03-04T06:57:39.604128",
     "exception": false,
     "start_time": "2023-03-04T06:57:39.557370",
     "status": "completed"
    },
    "tags": []
   },
   "outputs": [],
   "source": [
    "# got to drop all the object types features\n",
    "train = train.drop(['Item_Identifier', 'Item_Type', 'Outlet_Identifier', 'Outlet_Type','Outlet_Establishment_Year'], axis=1)"
   ]
  },
  {
   "cell_type": "code",
   "execution_count": 48,
   "id": "05b24703",
   "metadata": {
    "execution": {
     "iopub.execute_input": "2023-03-04T06:57:39.677593Z",
     "iopub.status.busy": "2023-03-04T06:57:39.676587Z",
     "iopub.status.idle": "2023-03-04T06:57:39.684632Z",
     "shell.execute_reply": "2023-03-04T06:57:39.683481Z"
    },
    "executionInfo": {
     "elapsed": 1232,
     "status": "ok",
     "timestamp": 1598848195478,
     "user": {
      "displayName": "Pranjal Taye",
      "photoUrl": "",
      "userId": "08038041687747372073"
     },
     "user_tz": -330
    },
    "id": "LeN99QxswAkS",
    "outputId": "f5fb9135-0bf0-4c6f-f6c6-56400b0b02a8",
    "papermill": {
     "duration": 0.0477,
     "end_time": "2023-03-04T06:57:39.687051",
     "exception": false,
     "start_time": "2023-03-04T06:57:39.639351",
     "status": "completed"
    },
    "tags": []
   },
   "outputs": [
    {
     "data": {
      "text/plain": [
       "Index(['Item_Weight', 'Item_Fat_Content', 'Item_Visibility', 'Item_MRP',\n",
       "       'Outlet_Size', 'Outlet_Location_Type', 'Item_Outlet_Sales',\n",
       "       'Outlet_Age', 'Item_Visibility_bins', 'Grocery Store',\n",
       "       'Supermarket Type1', 'Supermarket Type2', 'Supermarket Type3'],\n",
       "      dtype='object')"
      ]
     },
     "execution_count": 48,
     "metadata": {},
     "output_type": "execute_result"
    }
   ],
   "source": [
    "train.columns"
   ]
  },
  {
   "cell_type": "code",
   "execution_count": 49,
   "id": "f9852694",
   "metadata": {
    "execution": {
     "iopub.execute_input": "2023-03-04T06:57:39.760753Z",
     "iopub.status.busy": "2023-03-04T06:57:39.760296Z",
     "iopub.status.idle": "2023-03-04T06:57:39.776849Z",
     "shell.execute_reply": "2023-03-04T06:57:39.775808Z"
    },
    "executionInfo": {
     "elapsed": 1416,
     "status": "ok",
     "timestamp": 1598848199018,
     "user": {
      "displayName": "Pranjal Taye",
      "photoUrl": "",
      "userId": "08038041687747372073"
     },
     "user_tz": -330
    },
    "id": "vBvZoCtiwAkV",
    "outputId": "b5ba70c3-43d7-4c61-920e-d0803d36be45",
    "papermill": {
     "duration": 0.057069,
     "end_time": "2023-03-04T06:57:39.779075",
     "exception": false,
     "start_time": "2023-03-04T06:57:39.722006",
     "status": "completed"
    },
    "tags": []
   },
   "outputs": [
    {
     "data": {
      "text/html": [
       "<div>\n",
       "<style scoped>\n",
       "    .dataframe tbody tr th:only-of-type {\n",
       "        vertical-align: middle;\n",
       "    }\n",
       "\n",
       "    .dataframe tbody tr th {\n",
       "        vertical-align: top;\n",
       "    }\n",
       "\n",
       "    .dataframe thead th {\n",
       "        text-align: right;\n",
       "    }\n",
       "</style>\n",
       "<table border=\"1\" class=\"dataframe\">\n",
       "  <thead>\n",
       "    <tr style=\"text-align: right;\">\n",
       "      <th></th>\n",
       "      <th>Item_Weight</th>\n",
       "      <th>Item_Fat_Content</th>\n",
       "      <th>Item_Visibility</th>\n",
       "      <th>Item_MRP</th>\n",
       "      <th>Outlet_Size</th>\n",
       "      <th>Outlet_Location_Type</th>\n",
       "      <th>Item_Outlet_Sales</th>\n",
       "      <th>Outlet_Age</th>\n",
       "      <th>Item_Visibility_bins</th>\n",
       "      <th>Grocery Store</th>\n",
       "      <th>Supermarket Type1</th>\n",
       "      <th>Supermarket Type2</th>\n",
       "      <th>Supermarket Type3</th>\n",
       "    </tr>\n",
       "  </thead>\n",
       "  <tbody>\n",
       "    <tr>\n",
       "      <th>0</th>\n",
       "      <td>9.30</td>\n",
       "      <td>0</td>\n",
       "      <td>0.016047</td>\n",
       "      <td>249.8092</td>\n",
       "      <td>1</td>\n",
       "      <td>0</td>\n",
       "      <td>3735.1380</td>\n",
       "      <td>24</td>\n",
       "      <td>1</td>\n",
       "      <td>0</td>\n",
       "      <td>1</td>\n",
       "      <td>0</td>\n",
       "      <td>0</td>\n",
       "    </tr>\n",
       "    <tr>\n",
       "      <th>1</th>\n",
       "      <td>5.92</td>\n",
       "      <td>1</td>\n",
       "      <td>0.019278</td>\n",
       "      <td>48.2692</td>\n",
       "      <td>1</td>\n",
       "      <td>2</td>\n",
       "      <td>443.4228</td>\n",
       "      <td>14</td>\n",
       "      <td>1</td>\n",
       "      <td>0</td>\n",
       "      <td>0</td>\n",
       "      <td>1</td>\n",
       "      <td>0</td>\n",
       "    </tr>\n",
       "    <tr>\n",
       "      <th>2</th>\n",
       "      <td>17.50</td>\n",
       "      <td>0</td>\n",
       "      <td>0.016760</td>\n",
       "      <td>141.6180</td>\n",
       "      <td>1</td>\n",
       "      <td>0</td>\n",
       "      <td>2097.2700</td>\n",
       "      <td>24</td>\n",
       "      <td>1</td>\n",
       "      <td>0</td>\n",
       "      <td>1</td>\n",
       "      <td>0</td>\n",
       "      <td>0</td>\n",
       "    </tr>\n",
       "    <tr>\n",
       "      <th>3</th>\n",
       "      <td>19.20</td>\n",
       "      <td>1</td>\n",
       "      <td>0.000000</td>\n",
       "      <td>182.0950</td>\n",
       "      <td>1</td>\n",
       "      <td>2</td>\n",
       "      <td>732.3800</td>\n",
       "      <td>25</td>\n",
       "      <td>1</td>\n",
       "      <td>1</td>\n",
       "      <td>0</td>\n",
       "      <td>0</td>\n",
       "      <td>0</td>\n",
       "    </tr>\n",
       "    <tr>\n",
       "      <th>4</th>\n",
       "      <td>8.93</td>\n",
       "      <td>0</td>\n",
       "      <td>0.000000</td>\n",
       "      <td>53.8614</td>\n",
       "      <td>0</td>\n",
       "      <td>2</td>\n",
       "      <td>994.7052</td>\n",
       "      <td>36</td>\n",
       "      <td>1</td>\n",
       "      <td>0</td>\n",
       "      <td>1</td>\n",
       "      <td>0</td>\n",
       "      <td>0</td>\n",
       "    </tr>\n",
       "  </tbody>\n",
       "</table>\n",
       "</div>"
      ],
      "text/plain": [
       "   Item_Weight  Item_Fat_Content  Item_Visibility  Item_MRP  Outlet_Size  \\\n",
       "0         9.30                 0         0.016047  249.8092            1   \n",
       "1         5.92                 1         0.019278   48.2692            1   \n",
       "2        17.50                 0         0.016760  141.6180            1   \n",
       "3        19.20                 1         0.000000  182.0950            1   \n",
       "4         8.93                 0         0.000000   53.8614            0   \n",
       "\n",
       "   Outlet_Location_Type  Item_Outlet_Sales  Outlet_Age  Item_Visibility_bins  \\\n",
       "0                     0          3735.1380          24                     1   \n",
       "1                     2           443.4228          14                     1   \n",
       "2                     0          2097.2700          24                     1   \n",
       "3                     2           732.3800          25                     1   \n",
       "4                     2           994.7052          36                     1   \n",
       "\n",
       "   Grocery Store  Supermarket Type1  Supermarket Type2  Supermarket Type3  \n",
       "0              0                  1                  0                  0  \n",
       "1              0                  0                  1                  0  \n",
       "2              0                  1                  0                  0  \n",
       "3              1                  0                  0                  0  \n",
       "4              0                  1                  0                  0  "
      ]
     },
     "execution_count": 49,
     "metadata": {},
     "output_type": "execute_result"
    }
   ],
   "source": [
    "train.head()"
   ]
  },
  {
   "cell_type": "markdown",
   "id": "103c056e",
   "metadata": {
    "id": "GzwoRII8wAkY",
    "papermill": {
     "duration": 0.035773,
     "end_time": "2023-03-04T06:57:39.850310",
     "exception": false,
     "start_time": "2023-03-04T06:57:39.814537",
     "status": "completed"
    },
    "tags": []
   },
   "source": [
    "**Linear Regression**"
   ]
  },
  {
   "cell_type": "code",
   "execution_count": 50,
   "id": "b0548187",
   "metadata": {
    "execution": {
     "iopub.execute_input": "2023-03-04T06:57:39.923391Z",
     "iopub.status.busy": "2023-03-04T06:57:39.922642Z",
     "iopub.status.idle": "2023-03-04T06:57:39.928821Z",
     "shell.execute_reply": "2023-03-04T06:57:39.927733Z"
    },
    "executionInfo": {
     "elapsed": 1355,
     "status": "ok",
     "timestamp": 1598848202017,
     "user": {
      "displayName": "Pranjal Taye",
      "photoUrl": "",
      "userId": "08038041687747372073"
     },
     "user_tz": -330
    },
    "id": "bRpnQla4wAkZ",
    "papermill": {
     "duration": 0.045676,
     "end_time": "2023-03-04T06:57:39.931487",
     "exception": false,
     "start_time": "2023-03-04T06:57:39.885811",
     "status": "completed"
    },
    "tags": []
   },
   "outputs": [],
   "source": [
    "# build the linear regression model\n",
    "X = train.drop('Item_Outlet_Sales', axis=1)\n",
    "y = train.Item_Outlet_Sales"
   ]
  },
  {
   "cell_type": "code",
   "execution_count": 51,
   "id": "8de8fbd4",
   "metadata": {
    "execution": {
     "iopub.execute_input": "2023-03-04T06:57:40.004093Z",
     "iopub.status.busy": "2023-03-04T06:57:40.003647Z",
     "iopub.status.idle": "2023-03-04T06:57:40.034185Z",
     "shell.execute_reply": "2023-03-04T06:57:40.033287Z"
    },
    "executionInfo": {
     "elapsed": 1255,
     "status": "ok",
     "timestamp": 1598848204216,
     "user": {
      "displayName": "Pranjal Taye",
      "photoUrl": "",
      "userId": "08038041687747372073"
     },
     "user_tz": -330
    },
    "id": "fMnvFNzSwAkb",
    "papermill": {
     "duration": 0.07011,
     "end_time": "2023-03-04T06:57:40.036985",
     "exception": false,
     "start_time": "2023-03-04T06:57:39.966875",
     "status": "completed"
    },
    "tags": []
   },
   "outputs": [],
   "source": [
    "test = pd.read_csv('/kaggle/input/bigmart/bigmart_test.csv')\n",
    "test['Outlet_Size'] = test['Outlet_Size'].fillna('Medium')"
   ]
  },
  {
   "cell_type": "code",
   "execution_count": 52,
   "id": "9cf2ac54",
   "metadata": {
    "execution": {
     "iopub.execute_input": "2023-03-04T06:57:40.110472Z",
     "iopub.status.busy": "2023-03-04T06:57:40.109338Z",
     "iopub.status.idle": "2023-03-04T06:57:40.117536Z",
     "shell.execute_reply": "2023-03-04T06:57:40.116310Z"
    },
    "executionInfo": {
     "elapsed": 1339,
     "status": "ok",
     "timestamp": 1598848206532,
     "user": {
      "displayName": "Pranjal Taye",
      "photoUrl": "",
      "userId": "08038041687747372073"
     },
     "user_tz": -330
    },
    "id": "PDdhU4tYwAkf",
    "papermill": {
     "duration": 0.047616,
     "end_time": "2023-03-04T06:57:40.119937",
     "exception": false,
     "start_time": "2023-03-04T06:57:40.072321",
     "status": "completed"
    },
    "tags": []
   },
   "outputs": [],
   "source": [
    "test['Item_Visibility_bins'] = pd.cut(test['Item_Visibility'], [0.000, 0.065, 0.13, 0.2], labels=['Low Viz', 'Viz', 'High Viz'])"
   ]
  },
  {
   "cell_type": "code",
   "execution_count": 53,
   "id": "a06134e6",
   "metadata": {
    "execution": {
     "iopub.execute_input": "2023-03-04T06:57:40.194509Z",
     "iopub.status.busy": "2023-03-04T06:57:40.193761Z",
     "iopub.status.idle": "2023-03-04T06:57:40.200003Z",
     "shell.execute_reply": "2023-03-04T06:57:40.198511Z"
    },
    "executionInfo": {
     "elapsed": 1277,
     "status": "ok",
     "timestamp": 1598848209091,
     "user": {
      "displayName": "Pranjal Taye",
      "photoUrl": "",
      "userId": "08038041687747372073"
     },
     "user_tz": -330
    },
    "id": "GYKd_oXDwAki",
    "papermill": {
     "duration": 0.047349,
     "end_time": "2023-03-04T06:57:40.202827",
     "exception": false,
     "start_time": "2023-03-04T06:57:40.155478",
     "status": "completed"
    },
    "tags": []
   },
   "outputs": [],
   "source": [
    "test['Item_Weight'] = test['Item_Weight'].fillna(test['Item_Weight'].mean())"
   ]
  },
  {
   "cell_type": "code",
   "execution_count": 54,
   "id": "38c0c457",
   "metadata": {
    "execution": {
     "iopub.execute_input": "2023-03-04T06:57:40.275088Z",
     "iopub.status.busy": "2023-03-04T06:57:40.274655Z",
     "iopub.status.idle": "2023-03-04T06:57:40.285837Z",
     "shell.execute_reply": "2023-03-04T06:57:40.284550Z"
    },
    "executionInfo": {
     "elapsed": 777,
     "status": "ok",
     "timestamp": 1598848210927,
     "user": {
      "displayName": "Pranjal Taye",
      "photoUrl": "",
      "userId": "08038041687747372073"
     },
     "user_tz": -330
    },
    "id": "1h2lEuSHwAkl",
    "outputId": "207ceacb-149d-48b9-ca96-f8387a0a10e2",
    "papermill": {
     "duration": 0.050222,
     "end_time": "2023-03-04T06:57:40.288301",
     "exception": false,
     "start_time": "2023-03-04T06:57:40.238079",
     "status": "completed"
    },
    "tags": []
   },
   "outputs": [
    {
     "data": {
      "text/plain": [
       "0    Low Viz\n",
       "1    Low Viz\n",
       "2        Viz\n",
       "3    Low Viz\n",
       "4        Viz\n",
       "Name: Item_Visibility_bins, dtype: category\n",
       "Categories (3, object): ['Low Viz' < 'Viz' < 'High Viz']"
      ]
     },
     "execution_count": 54,
     "metadata": {},
     "output_type": "execute_result"
    }
   ],
   "source": [
    "test['Item_Visibility_bins'] = test['Item_Visibility_bins'].fillna('Low Viz')\n",
    "test['Item_Visibility_bins'].head()"
   ]
  },
  {
   "cell_type": "code",
   "execution_count": 55,
   "id": "428f2ace",
   "metadata": {
    "execution": {
     "iopub.execute_input": "2023-03-04T06:57:40.363011Z",
     "iopub.status.busy": "2023-03-04T06:57:40.362155Z",
     "iopub.status.idle": "2023-03-04T06:57:40.370710Z",
     "shell.execute_reply": "2023-03-04T06:57:40.369713Z"
    },
    "executionInfo": {
     "elapsed": 1686,
     "status": "ok",
     "timestamp": 1598848214995,
     "user": {
      "displayName": "Pranjal Taye",
      "photoUrl": "",
      "userId": "08038041687747372073"
     },
     "user_tz": -330
    },
    "id": "Tcj2ZzpOwAko",
    "papermill": {
     "duration": 0.048799,
     "end_time": "2023-03-04T06:57:40.373185",
     "exception": false,
     "start_time": "2023-03-04T06:57:40.324386",
     "status": "completed"
    },
    "tags": []
   },
   "outputs": [],
   "source": [
    "test['Item_Fat_Content'] = test['Item_Fat_Content'].replace(['low fat', 'LF'], 'Low Fat')\n",
    "test['Item_Fat_Content'] = test['Item_Fat_Content'].replace('reg', 'Regular')"
   ]
  },
  {
   "cell_type": "code",
   "execution_count": 56,
   "id": "63a730d3",
   "metadata": {
    "execution": {
     "iopub.execute_input": "2023-03-04T06:57:40.446773Z",
     "iopub.status.busy": "2023-03-04T06:57:40.445763Z",
     "iopub.status.idle": "2023-03-04T06:57:40.454188Z",
     "shell.execute_reply": "2023-03-04T06:57:40.453037Z"
    },
    "executionInfo": {
     "elapsed": 1224,
     "status": "ok",
     "timestamp": 1598848217325,
     "user": {
      "displayName": "Pranjal Taye",
      "photoUrl": "",
      "userId": "08038041687747372073"
     },
     "user_tz": -330
    },
    "id": "rhvUSn1TwAkq",
    "papermill": {
     "duration": 0.047979,
     "end_time": "2023-03-04T06:57:40.456862",
     "exception": false,
     "start_time": "2023-03-04T06:57:40.408883",
     "status": "completed"
    },
    "tags": []
   },
   "outputs": [],
   "source": [
    "test['Item_Fat_Content'] = le.fit_transform(test['Item_Fat_Content'])"
   ]
  },
  {
   "cell_type": "code",
   "execution_count": 57,
   "id": "2876bb70",
   "metadata": {
    "execution": {
     "iopub.execute_input": "2023-03-04T06:57:40.531206Z",
     "iopub.status.busy": "2023-03-04T06:57:40.530452Z",
     "iopub.status.idle": "2023-03-04T06:57:40.537755Z",
     "shell.execute_reply": "2023-03-04T06:57:40.536554Z"
    },
    "executionInfo": {
     "elapsed": 1665,
     "status": "ok",
     "timestamp": 1598848220126,
     "user": {
      "displayName": "Pranjal Taye",
      "photoUrl": "",
      "userId": "08038041687747372073"
     },
     "user_tz": -330
    },
    "id": "62rC42u1wAks",
    "papermill": {
     "duration": 0.047158,
     "end_time": "2023-03-04T06:57:40.540197",
     "exception": false,
     "start_time": "2023-03-04T06:57:40.493039",
     "status": "completed"
    },
    "tags": []
   },
   "outputs": [],
   "source": [
    "test['Item_Visibility_bins'] = le.fit_transform(test['Item_Visibility_bins'])"
   ]
  },
  {
   "cell_type": "code",
   "execution_count": 58,
   "id": "0bfcab21",
   "metadata": {
    "execution": {
     "iopub.execute_input": "2023-03-04T06:57:40.612816Z",
     "iopub.status.busy": "2023-03-04T06:57:40.612386Z",
     "iopub.status.idle": "2023-03-04T06:57:40.620968Z",
     "shell.execute_reply": "2023-03-04T06:57:40.619676Z"
    },
    "executionInfo": {
     "elapsed": 2409,
     "status": "ok",
     "timestamp": 1598848223653,
     "user": {
      "displayName": "Pranjal Taye",
      "photoUrl": "",
      "userId": "08038041687747372073"
     },
     "user_tz": -330
    },
    "id": "6rKBoVfXwAku",
    "papermill": {
     "duration": 0.047886,
     "end_time": "2023-03-04T06:57:40.623359",
     "exception": false,
     "start_time": "2023-03-04T06:57:40.575473",
     "status": "completed"
    },
    "tags": []
   },
   "outputs": [],
   "source": [
    "test['Outlet_Size'] = le.fit_transform(test['Outlet_Size'])"
   ]
  },
  {
   "cell_type": "code",
   "execution_count": 59,
   "id": "0bee618b",
   "metadata": {
    "execution": {
     "iopub.execute_input": "2023-03-04T06:57:40.696800Z",
     "iopub.status.busy": "2023-03-04T06:57:40.696343Z",
     "iopub.status.idle": "2023-03-04T06:57:40.704777Z",
     "shell.execute_reply": "2023-03-04T06:57:40.703286Z"
    },
    "executionInfo": {
     "elapsed": 1365,
     "status": "ok",
     "timestamp": 1598848226353,
     "user": {
      "displayName": "Pranjal Taye",
      "photoUrl": "",
      "userId": "08038041687747372073"
     },
     "user_tz": -330
    },
    "id": "rZ-DAqJwwAkw",
    "papermill": {
     "duration": 0.048728,
     "end_time": "2023-03-04T06:57:40.707320",
     "exception": false,
     "start_time": "2023-03-04T06:57:40.658592",
     "status": "completed"
    },
    "tags": []
   },
   "outputs": [],
   "source": [
    "test['Outlet_Location_Type'] = le.fit_transform(test['Outlet_Location_Type'])"
   ]
  },
  {
   "cell_type": "code",
   "execution_count": 60,
   "id": "0a9da5a8",
   "metadata": {
    "execution": {
     "iopub.execute_input": "2023-03-04T06:57:40.781756Z",
     "iopub.status.busy": "2023-03-04T06:57:40.780945Z",
     "iopub.status.idle": "2023-03-04T06:57:40.786873Z",
     "shell.execute_reply": "2023-03-04T06:57:40.785638Z"
    },
    "executionInfo": {
     "elapsed": 1384,
     "status": "ok",
     "timestamp": 1598848228439,
     "user": {
      "displayName": "Pranjal Taye",
      "photoUrl": "",
      "userId": "08038041687747372073"
     },
     "user_tz": -330
    },
    "id": "aEBe7enkwAkz",
    "papermill": {
     "duration": 0.046493,
     "end_time": "2023-03-04T06:57:40.789262",
     "exception": false,
     "start_time": "2023-03-04T06:57:40.742769",
     "status": "completed"
    },
    "tags": []
   },
   "outputs": [],
   "source": [
    "test['Outlet_Age'] = 2018 - test['Outlet_Establishment_Year']"
   ]
  },
  {
   "cell_type": "code",
   "execution_count": 61,
   "id": "5a12ae92",
   "metadata": {
    "execution": {
     "iopub.execute_input": "2023-03-04T06:57:40.862782Z",
     "iopub.status.busy": "2023-03-04T06:57:40.861636Z",
     "iopub.status.idle": "2023-03-04T06:57:40.871363Z",
     "shell.execute_reply": "2023-03-04T06:57:40.870155Z"
    },
    "executionInfo": {
     "elapsed": 1607,
     "status": "ok",
     "timestamp": 1598848231013,
     "user": {
      "displayName": "Pranjal Taye",
      "photoUrl": "",
      "userId": "08038041687747372073"
     },
     "user_tz": -330
    },
    "id": "jIO27t23wAk3",
    "papermill": {
     "duration": 0.049455,
     "end_time": "2023-03-04T06:57:40.873934",
     "exception": false,
     "start_time": "2023-03-04T06:57:40.824479",
     "status": "completed"
    },
    "tags": []
   },
   "outputs": [],
   "source": [
    "dummy = pd.get_dummies(test['Outlet_Type'])\n",
    "test = pd.concat([test, dummy], axis=1)"
   ]
  },
  {
   "cell_type": "code",
   "execution_count": 62,
   "id": "f1bdbe9b",
   "metadata": {
    "execution": {
     "iopub.execute_input": "2023-03-04T06:57:40.947456Z",
     "iopub.status.busy": "2023-03-04T06:57:40.946614Z",
     "iopub.status.idle": "2023-03-04T06:57:40.955264Z",
     "shell.execute_reply": "2023-03-04T06:57:40.953939Z"
    },
    "executionInfo": {
     "elapsed": 1197,
     "status": "ok",
     "timestamp": 1598848232927,
     "user": {
      "displayName": "Pranjal Taye",
      "photoUrl": "",
      "userId": "08038041687747372073"
     },
     "user_tz": -330
    },
    "id": "ElX5z-4jwAk5",
    "papermill": {
     "duration": 0.048186,
     "end_time": "2023-03-04T06:57:40.957838",
     "exception": false,
     "start_time": "2023-03-04T06:57:40.909652",
     "status": "completed"
    },
    "tags": []
   },
   "outputs": [],
   "source": [
    "X_test = test.drop(['Item_Identifier', 'Item_Type', 'Outlet_Identifier', 'Outlet_Type','Outlet_Establishment_Year'], axis=1)"
   ]
  },
  {
   "cell_type": "code",
   "execution_count": 63,
   "id": "04144e84",
   "metadata": {
    "execution": {
     "iopub.execute_input": "2023-03-04T06:57:41.033242Z",
     "iopub.status.busy": "2023-03-04T06:57:41.032784Z",
     "iopub.status.idle": "2023-03-04T06:57:41.041900Z",
     "shell.execute_reply": "2023-03-04T06:57:41.040637Z"
    },
    "executionInfo": {
     "elapsed": 1324,
     "status": "ok",
     "timestamp": 1598848235282,
     "user": {
      "displayName": "Pranjal Taye",
      "photoUrl": "",
      "userId": "08038041687747372073"
     },
     "user_tz": -330
    },
    "id": "lcooN4oWwAk7",
    "outputId": "17b8da9a-cd39-420c-f6a3-efbdab4bc305",
    "papermill": {
     "duration": 0.050415,
     "end_time": "2023-03-04T06:57:41.044287",
     "exception": false,
     "start_time": "2023-03-04T06:57:40.993872",
     "status": "completed"
    },
    "tags": []
   },
   "outputs": [
    {
     "data": {
      "text/plain": [
       "(Index(['Item_Weight', 'Item_Fat_Content', 'Item_Visibility', 'Item_MRP',\n",
       "        'Outlet_Size', 'Outlet_Location_Type', 'Outlet_Age',\n",
       "        'Item_Visibility_bins', 'Grocery Store', 'Supermarket Type1',\n",
       "        'Supermarket Type2', 'Supermarket Type3'],\n",
       "       dtype='object'),\n",
       " Index(['Item_Weight', 'Item_Fat_Content', 'Item_Visibility', 'Item_MRP',\n",
       "        'Outlet_Size', 'Outlet_Location_Type', 'Item_Visibility_bins',\n",
       "        'Outlet_Age', 'Grocery Store', 'Supermarket Type1', 'Supermarket Type2',\n",
       "        'Supermarket Type3'],\n",
       "       dtype='object'))"
      ]
     },
     "execution_count": 63,
     "metadata": {},
     "output_type": "execute_result"
    }
   ],
   "source": [
    "X.columns, X_test.columns"
   ]
  },
  {
   "cell_type": "code",
   "execution_count": 64,
   "id": "d93780ec",
   "metadata": {
    "execution": {
     "iopub.execute_input": "2023-03-04T06:57:41.118119Z",
     "iopub.status.busy": "2023-03-04T06:57:41.117720Z",
     "iopub.status.idle": "2023-03-04T06:57:41.128097Z",
     "shell.execute_reply": "2023-03-04T06:57:41.126813Z"
    },
    "executionInfo": {
     "elapsed": 1624,
     "status": "ok",
     "timestamp": 1598848238363,
     "user": {
      "displayName": "Pranjal Taye",
      "photoUrl": "",
      "userId": "08038041687747372073"
     },
     "user_tz": -330
    },
    "id": "J1r8KmfswAk_",
    "papermill": {
     "duration": 0.050549,
     "end_time": "2023-03-04T06:57:41.130733",
     "exception": false,
     "start_time": "2023-03-04T06:57:41.080184",
     "status": "completed"
    },
    "tags": []
   },
   "outputs": [],
   "source": [
    "from sklearn import model_selection\n",
    "xtrain,xtest,ytrain,ytest = model_selection.train_test_split(X,y,test_size=0.3,random_state=42)"
   ]
  },
  {
   "cell_type": "code",
   "execution_count": 65,
   "id": "fdb18cc6",
   "metadata": {
    "execution": {
     "iopub.execute_input": "2023-03-04T06:57:41.205072Z",
     "iopub.status.busy": "2023-03-04T06:57:41.204602Z",
     "iopub.status.idle": "2023-03-04T06:57:41.210919Z",
     "shell.execute_reply": "2023-03-04T06:57:41.209432Z"
    },
    "executionInfo": {
     "elapsed": 1660,
     "status": "ok",
     "timestamp": 1598848241946,
     "user": {
      "displayName": "Pranjal Taye",
      "photoUrl": "",
      "userId": "08038041687747372073"
     },
     "user_tz": -330
    },
    "id": "AkH6uyHTwAlB",
    "papermill": {
     "duration": 0.047245,
     "end_time": "2023-03-04T06:57:41.213719",
     "exception": false,
     "start_time": "2023-03-04T06:57:41.166474",
     "status": "completed"
    },
    "tags": []
   },
   "outputs": [],
   "source": [
    "lin = LinearRegression()"
   ]
  },
  {
   "cell_type": "code",
   "execution_count": 66,
   "id": "ab61d209",
   "metadata": {
    "execution": {
     "iopub.execute_input": "2023-03-04T06:57:41.287794Z",
     "iopub.status.busy": "2023-03-04T06:57:41.287349Z",
     "iopub.status.idle": "2023-03-04T06:57:41.312330Z",
     "shell.execute_reply": "2023-03-04T06:57:41.310698Z"
    },
    "executionInfo": {
     "elapsed": 1481,
     "status": "error",
     "timestamp": 1598848244437,
     "user": {
      "displayName": "Pranjal Taye",
      "photoUrl": "",
      "userId": "08038041687747372073"
     },
     "user_tz": -330
    },
    "id": "rxS-d-9lwAlF",
    "outputId": "94f25950-997c-4c5c-a5be-57aba062c34b",
    "papermill": {
     "duration": 0.064867,
     "end_time": "2023-03-04T06:57:41.315049",
     "exception": false,
     "start_time": "2023-03-04T06:57:41.250182",
     "status": "completed"
    },
    "tags": []
   },
   "outputs": [
    {
     "name": "stdout",
     "output_type": "stream",
     "text": [
      "[    3.32565903    27.49948402  -196.15278716    15.96531149\n",
      "    16.76148752     8.04121542    -2.28120926    17.62300318\n",
      " -1753.70556394   219.18652367  -122.33893469  1656.85797495]\n"
     ]
    },
    {
     "data": {
      "text/plain": [
       "-182.1308436263439"
      ]
     },
     "execution_count": 66,
     "metadata": {},
     "output_type": "execute_result"
    }
   ],
   "source": [
    "lin.fit(xtrain, ytrain)\n",
    "print(lin.coef_)\n",
    "lin.intercept_\n"
   ]
  },
  {
   "cell_type": "code",
   "execution_count": 67,
   "id": "faae7fff",
   "metadata": {
    "execution": {
     "iopub.execute_input": "2023-03-04T06:57:41.390163Z",
     "iopub.status.busy": "2023-03-04T06:57:41.388954Z",
     "iopub.status.idle": "2023-03-04T06:57:41.405710Z",
     "shell.execute_reply": "2023-03-04T06:57:41.403618Z"
    },
    "id": "V2_0PjvOwAlH",
    "outputId": "20598ec2-e0e5-49fd-bf5c-61dba28ea561",
    "papermill": {
     "duration": 0.058977,
     "end_time": "2023-03-04T06:57:41.410420",
     "exception": false,
     "start_time": "2023-03-04T06:57:41.351443",
     "status": "completed"
    },
    "tags": []
   },
   "outputs": [
    {
     "name": "stdout",
     "output_type": "stream",
     "text": [
      "1118.41605258575\n"
     ]
    }
   ],
   "source": [
    "predictions = lin.predict(xtest)\n",
    "print(sqrt(mean_squared_error(ytest, predictions)))"
   ]
  },
  {
   "cell_type": "markdown",
   "id": "22356ddd",
   "metadata": {
    "id": "Cs65vslKwAlI",
    "papermill": {
     "duration": 0.047826,
     "end_time": "2023-03-04T06:57:41.550763",
     "exception": false,
     "start_time": "2023-03-04T06:57:41.502937",
     "status": "completed"
    },
    "tags": []
   },
   "source": [
    "#### A good RMSE for this problem is atleast 1150. \n",
    "\n",
    "Try using Ridge, Lasso, ElasticNet, and compare the RMSE scores.\n",
    "You can try Gradient boosting too.\n",
    "\n",
    " **Lesson 08: Ensemble learning** is about xgboost\n",
    " \n",
    "Once you have learnt the XGboost techniques, come back and re-work on this problem.\n",
    "*XGBOOST* will give the lowest RMSE.\n",
    " \n"
   ]
  },
  {
   "cell_type": "code",
   "execution_count": 68,
   "id": "b73cbd36",
   "metadata": {
    "execution": {
     "iopub.execute_input": "2023-03-04T06:57:41.624531Z",
     "iopub.status.busy": "2023-03-04T06:57:41.624119Z",
     "iopub.status.idle": "2023-03-04T06:57:41.658022Z",
     "shell.execute_reply": "2023-03-04T06:57:41.656411Z"
    },
    "id": "a4VrIUZYwAlJ",
    "outputId": "7db44c04-32dd-4194-f377-eb34bcbf444b",
    "papermill": {
     "duration": 0.076504,
     "end_time": "2023-03-04T06:57:41.663131",
     "exception": false,
     "start_time": "2023-03-04T06:57:41.586627",
     "status": "completed"
    },
    "tags": []
   },
   "outputs": [
    {
     "name": "stdout",
     "output_type": "stream",
     "text": [
      "1139.5277714448032\n",
      "1118.3593685856831\n",
      "R2 Value/Coefficient of Determination: 0.548659756640925\n"
     ]
    },
    {
     "name": "stderr",
     "output_type": "stream",
     "text": [
      "/opt/conda/lib/python3.7/site-packages/sklearn/linear_model/_base.py:145: FutureWarning: 'normalize' was deprecated in version 1.0 and will be removed in 1.2.\n",
      "If you wish to scale the data, use Pipeline with a StandardScaler in a preprocessing stage. To reproduce the previous behavior:\n",
      "\n",
      "from sklearn.pipeline import make_pipeline\n",
      "\n",
      "model = make_pipeline(StandardScaler(with_mean=False), Ridge())\n",
      "\n",
      "If you wish to pass a sample_weight parameter, you need to pass it as a fit parameter to each step of the pipeline as follows:\n",
      "\n",
      "kwargs = {s[0] + '__sample_weight': sample_weight for s in model.steps}\n",
      "model.fit(X, y, **kwargs)\n",
      "\n",
      "Set parameter alpha to: original_alpha * n_samples. \n",
      "  FutureWarning,\n"
     ]
    }
   ],
   "source": [
    "from sklearn.linear_model import Ridge\n",
    "ridgeReg = Ridge(alpha=0.001, normalize=True)\n",
    "ridgeReg.fit(xtrain,ytrain)\n",
    "print(sqrt(mean_squared_error(ytrain, ridgeReg.predict(xtrain))))\n",
    "print(sqrt(mean_squared_error(ytest, ridgeReg.predict(xtest))))\n",
    "print('R2 Value/Coefficient of Determination: {}'.format(ridgeReg.score(xtest, ytest)))"
   ]
  },
  {
   "cell_type": "code",
   "execution_count": 69,
   "id": "3a2c7746",
   "metadata": {
    "execution": {
     "iopub.execute_input": "2023-03-04T06:57:41.804109Z",
     "iopub.status.busy": "2023-03-04T06:57:41.803626Z",
     "iopub.status.idle": "2023-03-04T06:57:41.968056Z",
     "shell.execute_reply": "2023-03-04T06:57:41.966107Z"
    },
    "id": "HHgn7OLJwAlL",
    "outputId": "7cb6b5c9-c21d-4e4e-ce92-c3c55cf1a118",
    "papermill": {
     "duration": 0.219605,
     "end_time": "2023-03-04T06:57:41.973639",
     "exception": false,
     "start_time": "2023-03-04T06:57:41.754034",
     "status": "completed"
    },
    "tags": []
   },
   "outputs": [
    {
     "name": "stderr",
     "output_type": "stream",
     "text": [
      "/opt/conda/lib/python3.7/site-packages/sklearn/linear_model/_base.py:145: FutureWarning: 'normalize' was deprecated in version 1.0 and will be removed in 1.2.\n",
      "If you wish to scale the data, use Pipeline with a StandardScaler in a preprocessing stage. To reproduce the previous behavior:\n",
      "\n",
      "from sklearn.pipeline import make_pipeline\n",
      "\n",
      "model = make_pipeline(StandardScaler(with_mean=False), Lasso())\n",
      "\n",
      "If you wish to pass a sample_weight parameter, you need to pass it as a fit parameter to each step of the pipeline as follows:\n",
      "\n",
      "kwargs = {s[0] + '__sample_weight': sample_weight for s in model.steps}\n",
      "model.fit(X, y, **kwargs)\n",
      "\n",
      "Set parameter alpha to: original_alpha * np.sqrt(n_samples). \n",
      "  FutureWarning,\n"
     ]
    },
    {
     "name": "stdout",
     "output_type": "stream",
     "text": [
      "1139.5271102348172\n",
      "1118.4095347838993\n",
      "R2 Value/Coefficient of Determination: 0.5486192642328969\n"
     ]
    }
   ],
   "source": [
    "from sklearn.linear_model import Lasso\n",
    "lassoreg = Lasso(alpha=0.001, normalize=True)\n",
    "lassoreg.fit(xtrain, ytrain)\n",
    "\n",
    "print(sqrt(mean_squared_error(ytrain, lassoreg.predict(xtrain))))\n",
    "print(sqrt(mean_squared_error(ytest, lassoreg.predict(xtest))))\n",
    "print('R2 Value/Coefficient of Determination: {}'.format(lassoreg.score(xtest, ytest)))"
   ]
  },
  {
   "cell_type": "code",
   "execution_count": 70,
   "id": "9e292026",
   "metadata": {
    "execution": {
     "iopub.execute_input": "2023-03-04T06:57:42.113731Z",
     "iopub.status.busy": "2023-03-04T06:57:42.113330Z",
     "iopub.status.idle": "2023-03-04T06:57:42.142288Z",
     "shell.execute_reply": "2023-03-04T06:57:42.138802Z"
    },
    "id": "d4tr0WLWwAlN",
    "outputId": "90d66bfb-9922-44dc-fa14-0537e58c6515",
    "papermill": {
     "duration": 0.079487,
     "end_time": "2023-03-04T06:57:42.147176",
     "exception": false,
     "start_time": "2023-03-04T06:57:42.067689",
     "status": "completed"
    },
    "tags": []
   },
   "outputs": [
    {
     "name": "stdout",
     "output_type": "stream",
     "text": [
      "1477.9201935157485\n",
      "1429.147630115598\n",
      "R2 Value/Coefficient of Determination: 0.26295248675561855\n"
     ]
    },
    {
     "name": "stderr",
     "output_type": "stream",
     "text": [
      "/opt/conda/lib/python3.7/site-packages/sklearn/linear_model/_base.py:145: FutureWarning: 'normalize' was deprecated in version 1.0 and will be removed in 1.2.\n",
      "If you wish to scale the data, use Pipeline with a StandardScaler in a preprocessing stage. To reproduce the previous behavior:\n",
      "\n",
      "from sklearn.pipeline import make_pipeline\n",
      "\n",
      "model = make_pipeline(StandardScaler(with_mean=False), ElasticNet())\n",
      "\n",
      "If you wish to pass a sample_weight parameter, you need to pass it as a fit parameter to each step of the pipeline as follows:\n",
      "\n",
      "kwargs = {s[0] + '__sample_weight': sample_weight for s in model.steps}\n",
      "model.fit(X, y, **kwargs)\n",
      "\n",
      "Set parameter alpha to original_alpha * np.sqrt(n_samples) if l1_ratio is 1, and to original_alpha * n_samples if l1_ratio is 0. For other values of l1_ratio, no analytic formula is available.\n",
      "  FutureWarning,\n"
     ]
    }
   ],
   "source": [
    "from sklearn.linear_model import ElasticNet\n",
    "Elas = ElasticNet(alpha=0.001, normalize=True)\n",
    "Elas.fit(xtrain, ytrain)\n",
    "\n",
    "print(sqrt(mean_squared_error(ytrain, Elas.predict(xtrain))))\n",
    "print(sqrt(mean_squared_error(ytest, Elas.predict(xtest))))\n",
    "print('R2 Value/Coefficient of Determination: {}'.format(Elas.score(xtest, ytest)))"
   ]
  }
 ],
 "metadata": {
  "kernelspec": {
   "display_name": "Python 3",
   "language": "python",
   "name": "python3"
  },
  "language_info": {
   "codemirror_mode": {
    "name": "ipython",
    "version": 3
   },
   "file_extension": ".py",
   "mimetype": "text/x-python",
   "name": "python",
   "nbconvert_exporter": "python",
   "pygments_lexer": "ipython3",
   "version": "3.7.12"
  },
  "papermill": {
   "default_parameters": {},
   "duration": 38.198583,
   "end_time": "2023-03-04T06:57:43.070648",
   "environment_variables": {},
   "exception": null,
   "input_path": "__notebook__.ipynb",
   "output_path": "__notebook__.ipynb",
   "parameters": {},
   "start_time": "2023-03-04T06:57:04.872065",
   "version": "2.4.0"
  }
 },
 "nbformat": 4,
 "nbformat_minor": 5
}
